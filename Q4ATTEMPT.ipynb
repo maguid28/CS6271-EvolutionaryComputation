{
  "cells": [
    {
      "cell_type": "markdown",
      "metadata": {
        "id": "view-in-github",
        "colab_type": "text"
      },
      "source": [
        "<a href=\"https://colab.research.google.com/github/maguid28/CS6271-EvolutionaryComputation/blob/main/Q4ATTEMPT.ipynb\" target=\"_parent\"><img src=\"https://colab.research.google.com/assets/colab-badge.svg\" alt=\"Open In Colab\"/></a>"
      ]
    },
    {
      "cell_type": "markdown",
      "source": [],
      "metadata": {
        "id": "pTO_cyIIg06v"
      }
    },
    {
      "cell_type": "markdown",
      "source": [
        "##Comments:\n",
        "\n"
      ],
      "metadata": {
        "id": "frHBEflrQht5"
      }
    },
    {
      "cell_type": "markdown",
      "source": [],
      "metadata": {
        "id": "GgBty05mQzTJ"
      }
    },
    {
      "cell_type": "markdown",
      "source": [],
      "metadata": {
        "id": "yDZwrbnlg0Uz"
      }
    },
    {
      "cell_type": "markdown",
      "metadata": {
        "id": "TRtQrkg-I9eP"
      },
      "source": [
        "   # GA applied to OneMax"
      ]
    },
    {
      "cell_type": "markdown",
      "metadata": {
        "id": "WkBHb9GRI9eR"
      },
      "source": [
        "This notebook implements a simple GA in a fairly lowlevel way. In later examples we'll use more highlevel operators, but it is a very valuable exercise to ensure you understand what this code is actually doing. Make sure you understand the processes below before moving to the more high-level toolboxes!"
      ]
    },
    {
      "cell_type": "markdown",
      "metadata": {
        "id": "C9-hUBLDI9eR"
      },
      "source": [
        "Install DEAP. Note that if you are running this on your own computer you might not need to do this. In fact, it is better practice to install it so that it is always available, but when running on Colab, we do need this."
      ]
    },
    {
      "cell_type": "code",
      "execution_count": 625,
      "metadata": {
        "colab": {
          "base_uri": "https://localhost:8080/"
        },
        "id": "JeXkWchWI9eS",
        "outputId": "c02599c0-272a-45db-dcd7-468021d24745"
      },
      "outputs": [
        {
          "output_type": "stream",
          "name": "stdout",
          "text": [
            "Requirement already satisfied: deap in /usr/local/lib/python3.10/dist-packages (1.4.1)\n",
            "Requirement already satisfied: numpy in /usr/local/lib/python3.10/dist-packages (from deap) (1.23.5)\n"
          ]
        }
      ],
      "source": [
        "!pip install deap"
      ]
    },
    {
      "cell_type": "markdown",
      "metadata": {
        "id": "0F65PBphI9eS"
      },
      "source": [
        "Import the DEAP tools and useful libraries (random and matplotlib)."
      ]
    },
    {
      "cell_type": "code",
      "execution_count": 626,
      "metadata": {
        "id": "vOXzdESKI9eS"
      },
      "outputs": [],
      "source": [
        "from deap import base\n",
        "from deap import creator\n",
        "from deap import tools\n",
        "\n",
        "import random\n",
        "\n",
        "import matplotlib.pyplot as plt"
      ]
    },
    {
      "cell_type": "markdown",
      "metadata": {
        "id": "KJmGQRWPI9eS"
      },
      "source": [
        "Set our Genetic Algorithm parameters"
      ]
    },
    {
      "cell_type": "code",
      "source": [
        "NBR_ITEMS = 100\n",
        "MAX_WEIGHT = 1000\n",
        "\n",
        "# set the random seed. Make sure you do this BEFORE creating the knapsack\n",
        "# creating the knapsack\n",
        "RANDOM_SEED = 42\n",
        "random.seed(RANDOM_SEED)\n",
        "\n",
        "# Create the item dictionary: item name is an integer, and value is\n",
        "# a (value, weight) 2-uple.\n",
        "\n",
        "items = {}\n",
        "\n",
        "# Create random items and store them in the items' dictionary.\n",
        "for i in range(NBR_ITEMS):\n",
        "     items[i] = (random.randint(1, 10), random.randint(1, 100))"
      ],
      "metadata": {
        "id": "KCzZOFgsAUlo"
      },
      "execution_count": 627,
      "outputs": []
    },
    {
      "cell_type": "code",
      "execution_count": 628,
      "metadata": {
        "id": "GJuylV27I9eT"
      },
      "outputs": [],
      "source": [
        "# Genetic Algorithm constants:\n",
        "# DO NOT TOUCH\n",
        "POPULATION_SIZE = 500\n",
        "\n",
        "\n",
        "P_CROSSOVER = 0.7  # probability for crossover\n",
        "P_MUTATION = 1/NBR_ITEMS   # probability for mutating an individual\n",
        "MAX_GENERATIONS = 10000\n"
      ]
    },
    {
      "cell_type": "code",
      "source": [],
      "metadata": {
        "id": "wD_zO1ZvodWP"
      },
      "execution_count": 628,
      "outputs": []
    },
    {
      "cell_type": "markdown",
      "metadata": {
        "id": "iRrJBpDAI9eW"
      },
      "source": [
        "Create our toolbox. Note that we can pull in a bunch of predefined operators to tailor our Evolutionary Algorithm, which, of course, in this case is a GA. Notice that it is possible to create our **own** operators and functions to use, which is what we do with our **oneMaxFitness** function below."
      ]
    },
    {
      "cell_type": "code",
      "execution_count": 629,
      "metadata": {
        "id": "O0x7XfV2I9eW"
      },
      "outputs": [],
      "source": [
        "toolbox = base.Toolbox()\n",
        "\n",
        "# create an operator that randomly returns 0 or 1:\n",
        "toolbox.register(\"zeroOrOne\", random.randint, 0, 1)\n",
        "\n",
        "# define a single objective, maximizing fitness strategy:\n",
        "creator.create(\"FitnessMax\", base.Fitness, weights=(1.0,))\n",
        "\n",
        "# create the Individual class based on list:\n",
        "creator.create(\"Individual\", list, fitness=creator.FitnessMax)\n",
        "#creator.create(\"Individual\", array.array, typecode='b', fitness=creator.FitnessMax)\n",
        "\n",
        "# create the individual operator to fill up an Individual instance:\n",
        "toolbox.register(\"individualCreator\", tools.initRepeat, creator.Individual, toolbox.zeroOrOne, NBR_ITEMS)\n",
        "\n",
        "# create the population operator to generate a list of individuals:\n",
        "toolbox.register(\"populationCreator\", tools.initRepeat, list, toolbox.individualCreator)\n",
        "\n",
        "def knapsackFitness(individual):\n",
        "    total_weight = 0.0\n",
        "    total_value = 0.0\n",
        "\n",
        "    for (selected, (item_value, item_weight)) in zip(individual, items.values()):\n",
        "        if selected:\n",
        "            total_weight += item_weight\n",
        "            total_value += item_value\n",
        "\n",
        "    if total_weight > MAX_WEIGHT:\n",
        "        penalty = penalty_weight * penalty_weight * (total_weight - MAX_WEIGHT)\n",
        "        total_value -= penalty\n",
        "    return total_value,\n",
        "\n",
        "\n",
        "\n",
        "toolbox.register(\"evaluate\", knapsackFitness)\n",
        "\n",
        "# genetic operators:\n",
        "\n",
        "# Tournament selection with tournament size of 2:\n",
        "toolbox.register(\"select\", tools.selTournament, tournsize=2)\n",
        "\n",
        "# Single-point crossover:\n",
        "toolbox.register(\"mate\", tools.cxOnePoint)\n",
        "\n",
        "# Flip-bit mutation:\n",
        "# indpb: Independent probability for each attribute to be flipped\n",
        "toolbox.register(\"mutate\", tools.mutFlipBit, indpb=1.0/NBR_ITEMS)\n",
        "\n"
      ]
    },
    {
      "cell_type": "code",
      "source": [
        "#penalty weight\n",
        "penalty_weight = 1\n",
        "#Use to determine how often to adjust the penalty\n",
        "ADJUSTMENT_INTERVAL = 1\n",
        "\n",
        "previousBestFitness = 0\n",
        "stagnantGenerations = 0"
      ],
      "metadata": {
        "id": "YHqiTYfIliFc"
      },
      "execution_count": 630,
      "outputs": []
    },
    {
      "cell_type": "code",
      "execution_count": 631,
      "metadata": {
        "colab": {
          "base_uri": "https://localhost:8080/"
        },
        "id": "zTZB26PEI9eW",
        "outputId": "7bf9d8c4-0f49-4b11-9839-80cc55302f3b"
      },
      "outputs": [
        {
          "output_type": "stream",
          "name": "stdout",
          "text": [
            "- Generation 1: Max Fitness = -479.0, Avg Fitness = -1211.938\n",
            "Best Individual =  1 0 1 0 0 1 1 1 1 0 1 1 0 1 0 0 1 0 0 0 1 1 0 0 0 1 0 0 0 0 0 0 1 1 1 0 1 0 0 1 0 0 1 0 0 1 1 1 0 0 1 0 1 1 0 0 0 1 1 0 0 0 0 0 0 1 0 0 1 0 0 0 0 0 1 1 0 0 0 0 0 0 0 1 1 0 0 0 0 0 1 0 1 1 0 0 1 0 1 0\n",
            "Total weight for the best individual: 1678\n",
            "\n",
            "- Generation 2: Max Fitness = -479.0, Avg Fitness = -1214.7539327999998\n",
            "Best Individual =  1 0 1 0 0 1 1 1 1 0 1 1 0 1 0 0 1 0 0 0 1 1 0 0 0 1 0 0 0 0 0 0 1 1 1 0 1 0 0 1 0 0 1 0 0 1 1 1 0 0 1 0 1 1 0 0 0 1 1 0 0 0 0 0 0 1 0 0 1 0 0 0 0 0 1 1 0 0 0 0 0 0 0 1 1 0 0 0 0 0 1 0 1 1 0 0 1 0 1 0\n",
            "Total weight for the best individual: 1678\n",
            "\n",
            "- Generation 3: Max Fitness = -532.0, Avg Fitness = -1263.8758233804788\n",
            "Best Individual =  1 0 1 0 1 0 0 0 1 1 0 0 0 0 1 0 0 0 0 0 0 0 0 1 0 1 1 1 0 0 1 1 1 1 0 0 0 0 1 0 1 1 0 0 1 0 0 1 1 0 1 0 1 0 0 1 0 0 0 0 0 0 1 1 0 0 0 0 1 0 0 0 0 0 0 1 0 1 1 0 0 0 0 0 0 1 1 0 1 0 0 1 1 1 1 0 1 1 1 0\n",
            "Total weight for the best individual: 1703\n",
            "\n",
            "- Generation 4: Max Fitness = -609.4563097600002, Avg Fitness = -1305.7453462436172\n",
            "Best Individual =  0 1 1 0 1 0 0 0 0 1 1 0 1 0 0 0 0 1 0 0 0 0 1 0 0 1 1 0 0 0 1 0 0 1 1 0 1 0 0 0 0 0 1 1 0 0 1 0 1 1 0 0 0 1 1 1 0 1 1 0 0 1 0 1 0 0 0 1 0 0 0 1 1 1 1 0 1 1 0 0 0 0 0 0 0 0 0 0 1 1 0 0 0 0 0 0 0 0 1 1\n",
            "Total weight for the best individual: 1606\n",
            "\n",
            "- Generation 5: Max Fitness = -434.7199923369675, Avg Fitness = -1393.976140767028\n",
            "Best Individual =  1 0 1 1 1 0 0 0 1 1 1 1 0 1 0 1 0 0 0 1 0 0 0 0 1 0 0 0 0 0 1 0 1 0 0 0 1 0 0 0 0 0 1 0 1 0 1 1 0 0 1 0 0 0 1 1 0 0 0 0 0 0 1 1 0 0 0 0 1 0 0 0 0 0 0 0 1 0 0 0 0 1 0 0 0 1 1 0 1 1 1 0 0 1 1 0 0 1 1 0\n",
            "Total weight for the best individual: 1344\n",
            "\n",
            "- Generation 6: Max Fitness = -313.6652243536507, Avg Fitness = -1463.7593785469464\n",
            "Best Individual =  1 0 1 1 1 0 0 0 1 1 1 1 0 1 0 1 0 0 0 1 0 0 0 0 1 0 0 0 0 0 1 0 1 0 0 0 1 0 0 0 0 0 1 0 1 0 1 1 0 0 1 0 0 0 1 1 0 0 0 0 0 0 1 1 0 0 0 0 1 0 0 0 0 0 0 0 1 0 0 0 0 1 0 0 0 1 1 0 1 1 1 0 0 1 1 0 1 0 0 0\n",
            "Total weight for the best individual: 1237\n",
            "\n",
            "- Generation 7: Max Fitness = -106.22616109780313, Avg Fitness = -1572.916849629913\n",
            "Best Individual =  1 0 1 0 1 0 0 0 1 1 0 0 0 0 1 0 0 0 0 0 0 0 0 1 0 1 1 0 0 0 0 0 0 1 1 1 0 0 0 1 0 0 0 0 0 1 0 0 0 0 0 0 0 0 1 1 0 0 0 0 0 1 1 1 1 0 0 0 0 0 0 1 1 0 0 0 0 0 0 0 0 1 0 0 1 0 0 0 0 0 0 0 0 1 0 0 1 0 1 0\n",
            "Total weight for the best individual: 1095\n",
            "\n",
            "- Generation 8: Max Fitness = -106.22616109780313, Avg Fitness = -1564.4368170823798\n",
            "Best Individual =  1 0 1 0 1 0 0 0 1 1 0 0 0 0 1 0 0 0 0 0 0 0 0 1 0 1 1 0 0 0 0 0 0 1 1 1 0 0 0 1 0 0 0 0 0 1 0 0 0 0 0 0 0 0 1 1 0 0 0 0 0 1 1 1 1 0 0 0 0 0 0 1 1 0 0 0 0 0 0 0 0 1 0 0 1 0 0 0 0 0 0 0 0 1 0 0 1 0 1 0\n",
            "Total weight for the best individual: 1095\n",
            "\n",
            "- Generation 9: Max Fitness = -60.24192767672352, Avg Fitness = -1520.516091025611\n",
            "Best Individual =  1 0 0 0 1 0 0 0 0 1 1 1 0 1 0 0 0 0 1 0 0 1 0 0 0 0 0 0 1 0 0 0 1 1 0 0 0 0 0 0 0 0 1 0 1 0 1 1 0 0 1 0 0 0 1 1 0 0 0 0 0 0 1 1 0 0 0 0 1 0 0 0 0 0 0 0 1 0 0 0 0 1 0 0 0 1 1 0 1 1 1 0 0 1 1 0 1 0 0 0\n",
            "Total weight for the best individual: 1071\n",
            "\n",
            "- Generation 10: Max Fitness = 170.0, Avg Fitness = -1474.4330385736341\n",
            "Best Individual =  1 0 1 0 1 0 0 0 0 0 0 1 0 1 0 0 0 0 0 1 0 0 0 0 1 0 0 0 0 0 1 0 1 0 0 0 1 0 0 1 0 0 0 0 0 1 0 0 0 0 0 0 0 0 1 0 0 0 0 0 0 0 1 0 1 0 1 1 0 0 0 0 0 0 0 0 1 0 0 0 0 1 0 0 0 1 1 0 1 1 1 0 0 1 1 0 1 0 0 1\n",
            "Total weight for the best individual: 995\n",
            "\n"
          ]
        }
      ],
      "source": [
        "# create initial population (generation 0):\n",
        "population = toolbox.populationCreator(n=POPULATION_SIZE)\n",
        "generationCounter = 0\n",
        "\n",
        "# calculate fitness tuple for each individual in the population:\n",
        "fitnessValues = list(map(toolbox.evaluate, population))\n",
        "for individual, fitnessValue in zip(population, fitnessValues):\n",
        "    individual.fitness.values = fitnessValue\n",
        "\n",
        "# extract fitness values from all individuals in population:\n",
        "fitnessValues = [individual.fitness.values[0] for individual in population]\n",
        "\n",
        "# initialize statistics accumulators:\n",
        "maxFitnessValues = []\n",
        "meanFitnessValues = []\n",
        "\n",
        "# main evolutionary loop:\n",
        "# stop if max fitness value reached the known max value\n",
        "# OR if number of generations exceeded the preset value:\n",
        "while max(fitnessValues) < NBR_ITEMS and generationCounter < MAX_GENERATIONS:\n",
        "    # update counter:\n",
        "    generationCounter = generationCounter + 1\n",
        "\n",
        "    # apply the selection operator, to select the next generation's individuals:\n",
        "    offspring = toolbox.select(population, len(population))\n",
        "    # clone the selected individuals:\n",
        "    offspring = list(map(toolbox.clone, offspring))\n",
        "\n",
        "    # apply the crossover operator to pairs of offspring:\n",
        "    for child1, child2 in zip(offspring[::2], offspring[1::2]):\n",
        "        if random.random() < P_CROSSOVER:\n",
        "            toolbox.mate(child1, child2)\n",
        "            del child1.fitness.values\n",
        "            del child2.fitness.values\n",
        "\n",
        "    for mutant in offspring:\n",
        "        if random.random() < P_MUTATION:\n",
        "            toolbox.mutate(mutant)\n",
        "            del mutant.fitness.values\n",
        "\n",
        "    # calculate fitness for the individuals with no previous calculated fitness value:\n",
        "    freshIndividuals = [ind for ind in offspring if not ind.fitness.valid]\n",
        "    freshFitnessValues = list(map(toolbox.evaluate, freshIndividuals))\n",
        "    for individual, fitnessValue in zip(freshIndividuals, freshFitnessValues):\n",
        "        individual.fitness.values = fitnessValue\n",
        "\n",
        "    # replace the current population with the offspring:\n",
        "    population[:] = offspring\n",
        "\n",
        "    # collect fitnessValues into a list, update statistics and print:\n",
        "    fitnessValues = [ind.fitness.values[0] for ind in population]\n",
        "\n",
        "\n",
        "    maxFitness = max(fitnessValues)\n",
        "    meanFitness = sum(fitnessValues) / len(population)\n",
        "    maxFitnessValues.append(maxFitness)\n",
        "    meanFitnessValues.append(meanFitness)\n",
        "    print(\"- Generation {}: Max Fitness = {}, Avg Fitness = {}\".format(generationCounter, maxFitness, meanFitness))\n",
        "\n",
        "    best_index = fitnessValues.index(max(fitnessValues))\n",
        "    print(\"Best Individual = \", *population[best_index])\n",
        "\n",
        "    best_individual = population[best_index]\n",
        "    best_individual_weight = sum(item_weight for selected, (_, item_weight) in zip(best_individual, items.values()) if selected)\n",
        "\n",
        "    best_weight = sum(item[1] for i, item in enumerate(items.values()) if best_individual[i] == 1)\n",
        "    print(\"Total weight for the best individual: \" + str(best_weight) +  \"\\n\")\n",
        "\n",
        "    if generationCounter % ADJUSTMENT_INTERVAL == 0:\n",
        "      if best_individual_weight > MAX_WEIGHT:\n",
        "          penalty_weight *= 1.08\n",
        "\n",
        "    # Stagnation check:\n",
        "    if previousBestFitness == maxFitness:\n",
        "        stagnantGenerations += 1\n",
        "    else:\n",
        "        stagnantGenerations = 0  # reset if there's improvement\n",
        "    previousBestFitness = maxFitness\n",
        "    if stagnantGenerations >= 25:\n",
        "        print(\"No improvement in the last 25 generations\")\n",
        "        break\n",
        "\n",
        "\n",
        ""
      ]
    },
    {
      "cell_type": "markdown",
      "metadata": {
        "id": "SJ36W4fLI9eW"
      },
      "source": [
        "Now that we're done, let's print out some statistics. Generally we record (at least) the max and average over time."
      ]
    },
    {
      "cell_type": "code",
      "execution_count": 632,
      "metadata": {
        "colab": {
          "base_uri": "https://localhost:8080/",
          "height": 472
        },
        "id": "vmEEQCxSI9eW",
        "outputId": "0ecd7a9a-9d73-48bd-d0a0-b8a577a6c81e"
      },
      "outputs": [
        {
          "output_type": "display_data",
          "data": {
            "text/plain": [
              "<Figure size 640x480 with 1 Axes>"
            ],
            "image/png": "[encoded data removed]"
          },
          "metadata": {}
        }
      ],
      "source": [
        "# Genetic Algorithm is done - plot statistics:\n",
        "plt.plot(maxFitnessValues, color='red')\n",
        "plt.plot(meanFitnessValues, color='green')\n",
        "plt.xlabel('Generation')\n",
        "plt.ylabel('Max / Average Fitness')\n",
        "plt.title('Max and Average Fitness over Generations')\n",
        "plt.show()"
      ]
    },
    {
      "cell_type": "code",
      "execution_count": 632,
      "metadata": {
        "id": "PykcvOsVI9eX"
      },
      "outputs": [],
      "source": []
    }
  ],
  "metadata": {
    "kernelspec": {
      "display_name": "Python 3",
      "language": "python",
      "name": "python3"
    },
    "language_info": {
      "codemirror_mode": {
        "name": "ipython",
        "version": 3
      },
      "file_extension": ".py",
      "mimetype": "text/x-python",
      "name": "python",
      "nbconvert_exporter": "python",
      "pygments_lexer": "ipython3",
      "version": "3.8.3"
    },
    "colab": {
      "provenance": [],
      "toc_visible": true,
      "include_colab_link": true
    }
  },
  "nbformat": 4,
  "nbformat_minor": 0
}