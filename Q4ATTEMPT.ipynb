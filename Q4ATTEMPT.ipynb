{
  "cells": [
    {
      "cell_type": "markdown",
      "metadata": {
        "id": "view-in-github",
        "colab_type": "text"
      },
      "source": [
        "<a href=\"https://colab.research.google.com/github/maguid28/CS6271-EvolutionaryComputation/blob/main/Q4ATTEMPT.ipynb\" target=\"_parent\"><img src=\"https://colab.research.google.com/assets/colab-badge.svg\" alt=\"Open In Colab\"/></a>"
      ]
    },
    {
      "cell_type": "markdown",
      "source": [],
      "metadata": {
        "id": "pTO_cyIIg06v"
      }
    },
    {
      "cell_type": "markdown",
      "source": [
        "##Comments:\n",
        "\n"
      ],
      "metadata": {
        "id": "frHBEflrQht5"
      }
    },
    {
      "cell_type": "markdown",
      "source": [],
      "metadata": {
        "id": "GgBty05mQzTJ"
      }
    },
    {
      "cell_type": "markdown",
      "source": [],
      "metadata": {
        "id": "yDZwrbnlg0Uz"
      }
    },
    {
      "cell_type": "markdown",
      "metadata": {
        "id": "TRtQrkg-I9eP"
      },
      "source": [
        "   # GA applied to OneMax"
      ]
    },
    {
      "cell_type": "markdown",
      "metadata": {
        "id": "WkBHb9GRI9eR"
      },
      "source": [
        "This notebook implements a simple GA in a fairly lowlevel way. In later examples we'll use more highlevel operators, but it is a very valuable exercise to ensure you understand what this code is actually doing. Make sure you understand the processes below before moving to the more high-level toolboxes!"
      ]
    },
    {
      "cell_type": "markdown",
      "metadata": {
        "id": "C9-hUBLDI9eR"
      },
      "source": [
        "Install DEAP. Note that if you are running this on your own computer you might not need to do this. In fact, it is better practice to install it so that it is always available, but when running on Colab, we do need this."
      ]
    },
    {
      "cell_type": "code",
      "execution_count": 776,
      "metadata": {
        "colab": {
          "base_uri": "https://localhost:8080/"
        },
        "id": "JeXkWchWI9eS",
        "outputId": "e26dc03d-932c-449b-8757-e7d5ec606a6d"
      },
      "outputs": [
        {
          "output_type": "stream",
          "name": "stdout",
          "text": [
            "Requirement already satisfied: deap in /usr/local/lib/python3.10/dist-packages (1.4.1)\n",
            "Requirement already satisfied: numpy in /usr/local/lib/python3.10/dist-packages (from deap) (1.23.5)\n"
          ]
        }
      ],
      "source": [
        "!pip install deap"
      ]
    },
    {
      "cell_type": "markdown",
      "metadata": {
        "id": "0F65PBphI9eS"
      },
      "source": [
        "Import the DEAP tools and useful libraries (random and matplotlib)."
      ]
    },
    {
      "cell_type": "code",
      "execution_count": 777,
      "metadata": {
        "id": "vOXzdESKI9eS"
      },
      "outputs": [],
      "source": [
        "from deap import base\n",
        "from deap import creator\n",
        "from deap import tools\n",
        "\n",
        "import random\n",
        "\n",
        "import matplotlib.pyplot as plt"
      ]
    },
    {
      "cell_type": "markdown",
      "metadata": {
        "id": "KJmGQRWPI9eS"
      },
      "source": [
        "Set our Genetic Algorithm parameters"
      ]
    },
    {
      "cell_type": "code",
      "source": [
        "NBR_ITEMS = 100\n",
        "MAX_WEIGHT = 1000\n",
        "\n",
        "# set the random seed. Make sure you do this BEFORE creating the knapsack\n",
        "# creating the knapsack\n",
        "RANDOM_SEED = 42\n",
        "random.seed(RANDOM_SEED)\n",
        "\n",
        "# Create the item dictionary: item name is an integer, and value is\n",
        "# a (value, weight) 2-uple.\n",
        "\n",
        "items = {}\n",
        "\n",
        "# Create random items and store them in the items' dictionary.\n",
        "for i in range(NBR_ITEMS):\n",
        "     items[i] = (random.randint(1, 10), random.randint(1, 100))"
      ],
      "metadata": {
        "id": "KCzZOFgsAUlo"
      },
      "execution_count": 778,
      "outputs": []
    },
    {
      "cell_type": "code",
      "execution_count": 779,
      "metadata": {
        "id": "GJuylV27I9eT"
      },
      "outputs": [],
      "source": [
        "# Genetic Algorithm constants:\n",
        "# DO NOT TOUCH\n",
        "POPULATION_SIZE = 500\n",
        "\n",
        "\n",
        "P_CROSSOVER = 0.7  # probability for crossover\n",
        "P_MUTATION = 1/NBR_ITEMS   # probability for mutating an individual\n",
        "MAX_GENERATIONS = 10000\n"
      ]
    },
    {
      "cell_type": "code",
      "source": [
        "#penalty weight\n",
        "penalty_weight = 1\n",
        "#Use to determine how often to adjust the penalty\n",
        "ADJUSTMENT_INTERVAL = 1"
      ],
      "metadata": {
        "id": "wD_zO1ZvodWP"
      },
      "execution_count": 780,
      "outputs": []
    },
    {
      "cell_type": "markdown",
      "metadata": {
        "id": "iRrJBpDAI9eW"
      },
      "source": [
        "Create our toolbox. Note that we can pull in a bunch of predefined operators to tailor our Evolutionary Algorithm, which, of course, in this case is a GA. Notice that it is possible to create our **own** operators and functions to use, which is what we do with our **oneMaxFitness** function below."
      ]
    },
    {
      "cell_type": "code",
      "execution_count": 781,
      "metadata": {
        "id": "O0x7XfV2I9eW"
      },
      "outputs": [],
      "source": [
        "toolbox = base.Toolbox()\n",
        "\n",
        "# create an operator that randomly returns 0 or 1:\n",
        "toolbox.register(\"zeroOrOne\", random.randint, 0, 1)\n",
        "\n",
        "# define a single objective, maximizing fitness strategy:\n",
        "creator.create(\"FitnessMax\", base.Fitness, weights=(1.0,))\n",
        "\n",
        "# create the Individual class based on list:\n",
        "creator.create(\"Individual\", list, fitness=creator.FitnessMax)\n",
        "#creator.create(\"Individual\", array.array, typecode='b', fitness=creator.FitnessMax)\n",
        "\n",
        "# create the individual operator to fill up an Individual instance:\n",
        "toolbox.register(\"individualCreator\", tools.initRepeat, creator.Individual, toolbox.zeroOrOne, NBR_ITEMS)\n",
        "\n",
        "# create the population operator to generate a list of individuals:\n",
        "toolbox.register(\"populationCreator\", tools.initRepeat, list, toolbox.individualCreator)\n",
        "\n",
        "def knapsackFitness(individual):\n",
        "    total_weight = 0.0\n",
        "    total_value = 0.0\n",
        "\n",
        "    for (selected, (item_value, item_weight)) in zip(individual, items.values()):\n",
        "        if selected:\n",
        "            total_weight += item_weight\n",
        "            total_value += item_value\n",
        "\n",
        "    if total_weight > MAX_WEIGHT:\n",
        "        penalty = penalty_weight * (total_weight - MAX_WEIGHT)\n",
        "        total_value -= penalty\n",
        "    return total_value,\n",
        "\n",
        "\n",
        "\n",
        "toolbox.register(\"evaluate\", knapsackFitness)\n",
        "\n",
        "# genetic operators:\n",
        "\n",
        "# Tournament selection with tournament size of 2:\n",
        "toolbox.register(\"select\", tools.selTournament, tournsize=2)\n",
        "\n",
        "# Single-point crossover:\n",
        "toolbox.register(\"mate\", tools.cxOnePoint)\n",
        "\n",
        "# Flip-bit mutation:\n",
        "# indpb: Independent probability for each attribute to be flipped\n",
        "toolbox.register(\"mutate\", tools.mutFlipBit, indpb=1.0/NBR_ITEMS)\n",
        "\n"
      ]
    },
    {
      "cell_type": "code",
      "execution_count": 782,
      "metadata": {
        "id": "zTZB26PEI9eW"
      },
      "outputs": [],
      "source": [
        "def genetic_algorithm(P_CROSSOVER=0.7, P_MUTATION=1.0/100, penalty_weight=1):\n",
        "\n",
        "  previousBestFitness = 0\n",
        "  stagnantGenerations = 0\n",
        "\n",
        "  best_individual_overall = None\n",
        "  best_fitness_overall = 0\n",
        "  best_weight_overall = 0\n",
        "\n",
        "  # create initial population (generation 0):\n",
        "  population = toolbox.populationCreator(n=POPULATION_SIZE)\n",
        "  generationCounter = 0\n",
        "\n",
        "  # calculate fitness tuple for each individual in the population:\n",
        "  fitnessValues = list(map(toolbox.evaluate, population))\n",
        "  for individual, fitnessValue in zip(population, fitnessValues):\n",
        "      individual.fitness.values = fitnessValue\n",
        "\n",
        "  # extract fitness values from all individuals in population:\n",
        "  fitnessValues = [individual.fitness.values[0] for individual in population]\n",
        "\n",
        "  # initialize statistics accumulators:\n",
        "  maxFitnessValues = []\n",
        "  meanFitnessValues = []\n",
        "\n",
        "  # main evolutionary loop:\n",
        "  # stop if max fitness value reached the known max value\n",
        "  # OR if number of generations exceeded the preset value:\n",
        "  while max(fitnessValues) < NBR_ITEMS and generationCounter < MAX_GENERATIONS:\n",
        "      # update counter:\n",
        "      generationCounter = generationCounter + 1\n",
        "\n",
        "      # apply the selection operator, to select the next generation's individuals:\n",
        "      offspring = toolbox.select(population, len(population))\n",
        "      # clone the selected individuals:\n",
        "      offspring = list(map(toolbox.clone, offspring))\n",
        "\n",
        "      # apply the crossover operator to pairs of offspring:\n",
        "      for child1, child2 in zip(offspring[::2], offspring[1::2]):\n",
        "          if random.random() < P_CROSSOVER:\n",
        "              toolbox.mate(child1, child2)\n",
        "              del child1.fitness.values\n",
        "              del child2.fitness.values\n",
        "\n",
        "      for mutant in offspring:\n",
        "          if random.random() < P_MUTATION:\n",
        "              toolbox.mutate(mutant)\n",
        "              del mutant.fitness.values\n",
        "\n",
        "      # calculate fitness for the individuals with no previous calculated fitness value:\n",
        "      freshIndividuals = [ind for ind in offspring if not ind.fitness.valid]\n",
        "      freshFitnessValues = list(map(toolbox.evaluate, freshIndividuals))\n",
        "      for individual, fitnessValue in zip(freshIndividuals, freshFitnessValues):\n",
        "          individual.fitness.values = fitnessValue\n",
        "\n",
        "      # replace the current population with the offspring:\n",
        "      population[:] = offspring\n",
        "\n",
        "      # collect fitnessValues into a list, update statistics and print:\n",
        "      fitnessValues = [ind.fitness.values[0] for ind in population]\n",
        "\n",
        "\n",
        "      maxFitness = max(fitnessValues)\n",
        "      meanFitness = sum(fitnessValues) / len(population)\n",
        "      maxFitnessValues.append(maxFitness)\n",
        "      meanFitnessValues.append(meanFitness)\n",
        "      print(\"- Generation {}: Max Fitness = {}, Avg Fitness = {}\".format(generationCounter, maxFitness, meanFitness))\n",
        "\n",
        "      best_index = fitnessValues.index(max(fitnessValues))\n",
        "      print(\"Best Individual = \", *population[best_index])\n",
        "\n",
        "      best_individual = population[best_index]\n",
        "      best_individual_weight = sum(item_weight for selected, (_, item_weight) in zip(best_individual, items.values()) if selected)\n",
        "\n",
        "      if maxFitness > best_fitness_overall:\n",
        "        best_fitness_overall = maxFitness\n",
        "        best_individual_overall = population[best_index]\n",
        "        best_weight_overall = best_individual_weight\n",
        "\n",
        "      best_weight = sum(item[1] for i, item in enumerate(items.values()) if best_individual[i] == 1)\n",
        "      print(\"Total weight for the best individual: \" + str(best_weight) +  \"\\n\")\n",
        "\n",
        "      if generationCounter % ADJUSTMENT_INTERVAL == 0:\n",
        "        if best_individual_weight > MAX_WEIGHT:\n",
        "            penalty_weight *= 1.08\n",
        "\n",
        "      # Stagnation check:\n",
        "      if previousBestFitness == maxFitness:\n",
        "          stagnantGenerations += 1\n",
        "      else:\n",
        "          stagnantGenerations = 0  # reset if there's improvement\n",
        "      previousBestFitness = maxFitness\n",
        "      if stagnantGenerations >= 25:\n",
        "          print(\"No improvement in the last 25 generations\")\n",
        "          break\n",
        "\n",
        "  print(\"\\nBest Individual Overall = \", *best_individual_overall)\n",
        "  print(\"Fitness of Best Individual Overall = \", best_fitness_overall)\n",
        "  print(\"Total Weight for the Best Individual Overall: \", best_weight_overall)\n",
        "\n",
        "  return maxFitnessValues, meanFitnessValues\n",
        "\n",
        "\n",
        ""
      ]
    },
    {
      "cell_type": "code",
      "source": [
        "max_vals_1, mean_vals_1 = genetic_algorithm(P_CROSSOVER=0.7, P_MUTATION=0.01)\n",
        "\n",
        "plt.plot(max_vals_1, color='red', label='Setup 1 Max Fitness')\n",
        "plt.plot(mean_vals_1, color='pink', label='Setup 1 Mean Fitness')\n",
        "plt.xlabel('Generation')\n",
        "plt.ylabel('Fitness')\n",
        "plt.title('Fitness over Generations where P_CROSSOVER=0.7, P_MUTATION=0.01')\n",
        "plt.legend()\n",
        "plt.show()"
      ],
      "metadata": {
        "colab": {
          "base_uri": "https://localhost:8080/",
          "height": 1000
        },
        "id": "Prlokx624hNf",
        "outputId": "2707e3f6-37ef-4484-b480-7c4ca03b2ce2"
      },
      "execution_count": 783,
      "outputs": [
        {
          "output_type": "stream",
          "name": "stdout",
          "text": [
            "- Generation 1: Max Fitness = -479.0, Avg Fitness = -1211.938\n",
            "Best Individual =  1 0 1 0 0 1 1 1 1 0 1 1 0 1 0 0 1 0 0 0 1 1 0 0 0 1 0 0 0 0 0 0 1 1 1 0 1 0 0 1 0 0 1 0 0 1 1 1 0 0 1 0 1 1 0 0 0 1 1 0 0 0 0 0 0 1 0 0 1 0 0 0 0 0 1 1 0 0 0 0 0 0 0 1 1 0 0 0 0 0 1 0 1 1 0 0 1 0 1 0\n",
            "Total weight for the best individual: 1678\n",
            "\n",
            "- Generation 2: Max Fitness = -479.0, Avg Fitness = -1067.448\n",
            "Best Individual =  1 0 1 0 0 1 1 1 1 0 1 1 0 1 0 0 1 0 0 0 1 1 0 0 0 1 0 0 0 0 0 0 1 1 1 0 1 0 0 1 0 0 1 0 0 1 1 1 0 0 1 0 1 1 0 0 0 1 1 0 0 0 0 0 0 1 0 0 1 0 0 0 0 0 1 1 0 0 0 0 0 0 0 1 1 0 0 0 0 0 1 0 1 1 0 0 1 0 1 0\n",
            "Total weight for the best individual: 1678\n",
            "\n",
            "- Generation 3: Max Fitness = -391.0, Avg Fitness = -926.258\n",
            "Best Individual =  0 1 1 0 1 0 0 0 0 1 1 0 1 0 0 0 0 1 0 0 0 0 1 0 0 1 1 0 0 0 1 0 0 1 1 0 1 0 0 0 0 0 1 1 0 0 1 0 1 1 0 0 0 1 1 1 0 1 1 0 0 1 0 1 0 0 0 1 0 0 0 1 1 1 1 0 1 1 0 0 0 0 0 0 0 0 0 0 1 1 0 0 0 0 0 0 0 0 1 1\n",
            "Total weight for the best individual: 1606\n",
            "\n",
            "- Generation 4: Max Fitness = -173.0, Avg Fitness = -802.718\n",
            "Best Individual =  1 0 1 1 1 0 0 1 0 1 0 0 0 0 0 0 1 0 0 1 1 0 0 1 1 0 0 0 0 1 1 0 1 0 0 0 1 0 1 0 0 1 1 0 1 1 0 0 0 1 0 0 0 0 1 1 0 1 0 0 0 0 0 0 1 1 0 0 0 0 1 0 1 1 0 0 0 0 0 0 0 0 1 0 0 0 0 0 1 0 1 0 1 0 0 0 1 0 0 1\n",
            "Total weight for the best individual: 1362\n",
            "\n",
            "- Generation 5: Max Fitness = -173.0, Avg Fitness = -689.806\n",
            "Best Individual =  1 0 1 1 1 0 0 1 0 1 0 0 0 0 0 0 1 0 0 1 1 0 0 1 1 0 0 0 0 1 1 0 1 0 0 0 1 0 1 0 0 1 1 0 1 1 0 0 0 1 0 0 0 0 1 1 0 1 0 0 0 0 0 0 1 1 0 0 0 0 1 0 1 1 0 0 0 0 0 0 0 0 1 0 0 0 0 0 1 0 1 0 1 0 0 0 1 0 0 1\n",
            "Total weight for the best individual: 1362\n",
            "\n",
            "- Generation 6: Max Fitness = -110.0, Avg Fitness = -583.972\n",
            "Best Individual =  1 0 1 1 1 0 0 1 0 1 0 0 0 0 0 0 1 0 0 1 1 0 0 1 1 0 0 0 0 1 1 0 1 0 0 0 1 0 1 0 0 1 1 0 1 1 0 0 0 1 0 0 0 0 1 1 0 1 0 0 0 0 0 0 1 1 0 0 0 0 1 0 1 1 0 0 0 0 0 0 0 0 1 0 0 0 0 0 1 0 1 0 1 0 0 0 1 0 0 0\n",
            "Total weight for the best individual: 1291\n",
            "\n",
            "- Generation 7: Max Fitness = -34.0, Avg Fitness = -502.5\n",
            "Best Individual =  0 1 1 0 1 0 0 0 0 1 1 0 1 0 0 0 0 1 0 0 0 0 1 0 0 1 1 0 0 0 1 0 0 1 1 0 1 0 0 0 0 0 1 0 1 1 0 0 1 0 1 0 0 0 1 0 0 0 0 0 0 0 1 0 1 0 1 1 0 0 0 0 0 1 0 0 0 0 0 0 0 0 1 0 0 0 0 0 1 0 1 0 1 0 0 0 1 0 0 1\n",
            "Total weight for the best individual: 1194\n",
            "\n",
            "- Generation 8: Max Fitness = -17.0, Avg Fitness = -413.346\n",
            "Best Individual =  1 0 0 0 1 0 0 0 0 1 1 0 0 1 0 1 0 0 1 0 0 0 0 0 0 0 0 0 0 0 1 0 0 1 1 0 1 0 0 0 0 0 1 0 0 1 1 1 0 1 0 1 0 0 0 0 0 0 0 0 0 0 0 0 1 1 0 0 0 0 1 1 1 1 0 0 0 0 0 0 0 0 0 0 0 0 0 0 1 0 1 0 1 0 0 0 1 0 0 1\n",
            "Total weight for the best individual: 1178\n",
            "\n",
            "- Generation 9: Max Fitness = 143.0, Avg Fitness = -325.282\n",
            "Best Individual =  1 1 1 0 0 0 0 0 0 0 0 0 0 1 0 0 0 0 0 0 0 0 1 0 0 1 1 0 0 0 1 0 0 1 1 0 1 0 0 0 0 0 1 0 0 1 0 0 0 0 1 1 0 0 0 0 0 0 0 0 1 1 0 1 1 0 0 0 1 1 0 0 0 0 0 1 0 0 1 0 0 0 0 0 0 0 0 0 1 0 1 1 0 0 0 0 1 0 1 0\n",
            "Total weight for the best individual: 1004\n",
            "\n",
            "\n",
            "Best Individual Overall =  1 1 1 0 0 0 0 0 0 0 0 0 0 1 0 0 0 0 0 0 0 0 1 0 0 1 1 0 0 0 1 0 0 1 1 0 1 0 0 0 0 0 1 0 0 1 0 0 0 0 1 1 0 0 0 0 0 0 0 0 1 1 0 1 1 0 0 0 1 1 0 0 0 0 0 1 0 0 1 0 0 0 0 0 0 0 0 0 1 0 1 1 0 0 0 0 1 0 1 0\n",
            "Fitness of Best Individual Overall =  143.0\n",
            "Total Weight for the Best Individual Overall:  1004\n"
          ]
        },
        {
          "output_type": "display_data",
          "data": {
            "text/plain": [
              "<Figure size 640x480 with 1 Axes>"
            ],
            "image/png": "[encoded data removed]"
          },
          "metadata": {}
        }
      ]
    },
    {
      "cell_type": "code",
      "source": [
        "max_vals_2, mean_vals_2 = genetic_algorithm(P_CROSSOVER=0.9, P_MUTATION=0.01,penalty_weight=1.1)\n",
        "\n",
        "plt.plot(max_vals_2, color='blue', label='Setup 2 Max Fitness')\n",
        "plt.plot(mean_vals_2, color='lightblue', label='Setup 2 Mean Fitness')\n",
        "plt.xlabel('Generation')\n",
        "plt.ylabel('Fitness')\n",
        "plt.title('Fitness over Generations')\n",
        "plt.legend()\n",
        "plt.show()"
      ],
      "metadata": {
        "colab": {
          "base_uri": "https://localhost:8080/",
          "height": 1000
        },
        "id": "-hpY3kP95gyO",
        "outputId": "b95f1133-3bf2-489a-f20c-39236d379b9c"
      },
      "execution_count": 792,
      "outputs": [
        {
          "output_type": "stream",
          "name": "stdout",
          "text": [
            "- Generation 1: Max Fitness = -380.0, Avg Fitness = -1207.592\n",
            "Best Individual =  1 1 0 0 0 1 1 0 0 0 1 1 0 1 0 1 0 0 0 1 1 0 0 1 0 1 0 0 0 0 0 0 1 1 1 0 0 1 1 0 1 0 0 0 1 1 0 0 0 1 0 0 1 0 0 1 0 0 0 0 0 0 0 0 0 1 1 1 1 1 0 0 0 0 0 0 0 1 1 0 0 0 1 0 0 0 0 1 1 0 0 0 1 0 1 0 0 0 0 0\n",
            "Total weight for the best individual: 1563\n",
            "\n",
            "- Generation 2: Max Fitness = -426.0, Avg Fitness = -1069.14\n",
            "Best Individual =  1 0 1 0 0 0 0 1 0 0 0 0 0 0 1 0 1 1 0 1 0 1 0 0 0 0 0 1 0 0 1 1 0 1 1 0 0 0 0 0 0 1 0 0 0 1 0 0 1 0 0 0 0 1 1 1 0 0 1 0 0 0 1 1 1 1 0 0 0 1 0 0 0 0 1 0 0 0 0 1 0 1 0 1 0 0 0 0 1 1 1 0 1 1 0 0 0 0 0 1\n",
            "Total weight for the best individual: 1597\n",
            "\n",
            "- Generation 3: Max Fitness = -409.0, Avg Fitness = -955.356\n",
            "Best Individual =  0 0 1 0 0 1 0 0 0 0 1 0 1 0 0 0 0 0 1 1 0 1 0 1 1 1 0 0 0 1 0 0 0 0 0 0 1 0 1 0 1 1 1 0 0 1 0 0 1 1 0 0 0 1 0 0 0 0 1 1 1 0 0 0 0 1 0 0 0 0 0 1 0 0 0 1 0 0 0 0 0 0 0 0 0 0 0 1 1 0 1 1 0 0 1 1 0 0 1 0\n",
            "Total weight for the best individual: 1592\n",
            "\n",
            "- Generation 4: Max Fitness = -356.0, Avg Fitness = -839.22\n",
            "Best Individual =  1 1 1 0 1 1 0 1 0 0 0 0 0 0 0 0 0 0 1 0 1 0 0 1 0 1 0 0 0 0 1 0 1 0 1 0 1 0 1 0 0 0 1 0 1 0 0 0 0 0 0 0 0 1 0 0 0 0 1 1 1 1 0 1 0 0 0 0 0 0 1 1 0 0 0 0 1 1 0 0 0 1 0 0 1 1 1 0 0 0 1 1 0 0 1 1 0 0 1 0\n",
            "Total weight for the best individual: 1552\n",
            "\n",
            "- Generation 5: Max Fitness = -238.0, Avg Fitness = -727.86\n",
            "Best Individual =  1 1 1 0 1 1 0 1 0 0 0 0 0 0 0 0 0 0 1 0 1 0 0 1 0 1 0 0 0 0 1 0 1 0 1 0 1 0 1 0 0 0 1 0 0 1 0 1 0 0 0 0 0 0 0 0 1 0 1 0 1 1 0 1 0 0 0 0 0 0 0 0 1 1 0 1 0 0 0 1 0 0 0 0 1 1 0 0 1 1 1 0 0 0 1 0 0 0 1 0\n",
            "Total weight for the best individual: 1416\n",
            "\n",
            "- Generation 6: Max Fitness = -160.0, Avg Fitness = -636.426\n",
            "Best Individual =  0 0 0 0 1 0 0 0 1 0 1 1 0 0 0 0 1 0 0 0 1 0 0 1 1 1 0 0 0 1 1 0 0 0 1 0 0 1 0 0 0 0 0 1 0 1 0 0 0 0 0 0 1 0 1 0 0 1 0 0 1 0 0 1 0 0 0 1 0 0 1 1 0 0 0 1 1 1 0 0 0 0 0 0 0 0 0 0 1 1 1 0 0 0 1 1 1 1 0 0\n",
            "Total weight for the best individual: 1390\n",
            "\n",
            "- Generation 7: Max Fitness = -90.0, Avg Fitness = -545.906\n",
            "Best Individual =  1 1 1 0 1 1 0 1 0 0 0 0 0 0 0 0 0 0 1 0 1 0 0 1 0 1 0 0 0 0 1 0 1 0 1 0 1 0 1 0 0 0 1 0 1 0 0 0 0 0 0 0 0 1 0 0 0 0 1 1 1 1 0 1 0 0 0 0 0 0 1 1 0 0 0 0 1 1 0 0 0 1 0 0 0 0 0 0 1 0 1 0 1 1 1 0 0 0 1 0\n",
            "Total weight for the best individual: 1278\n",
            "\n",
            "- Generation 8: Max Fitness = -51.0, Avg Fitness = -459.886\n",
            "Best Individual =  1 1 1 0 1 1 0 1 0 0 0 0 0 0 0 0 1 1 0 0 0 1 0 1 1 1 0 0 0 1 0 0 0 0 1 0 0 0 0 1 0 0 1 1 0 1 0 0 0 0 0 0 1 0 1 0 0 1 0 0 1 0 0 1 0 0 0 1 0 0 1 1 0 0 0 1 1 1 0 0 0 0 0 0 0 0 0 0 0 1 0 0 0 0 1 0 0 0 0 0\n",
            "Total weight for the best individual: 1252\n",
            "\n",
            "- Generation 9: Max Fitness = 86.0, Avg Fitness = -383.218\n",
            "Best Individual =  0 1 0 0 0 0 1 1 0 1 0 1 0 0 0 0 0 0 0 0 1 0 0 0 0 0 0 0 0 1 0 0 0 0 1 0 0 0 0 1 0 0 0 0 0 0 0 0 1 1 0 0 1 0 1 0 0 1 0 0 1 0 0 1 0 0 0 1 0 0 1 1 0 0 0 1 1 1 0 0 0 0 0 0 0 0 0 1 1 0 0 0 1 0 1 0 0 0 0 0\n",
            "Total weight for the best individual: 1077\n",
            "\n",
            "- Generation 10: Max Fitness = 86.0, Avg Fitness = -302.878\n",
            "Best Individual =  0 1 0 0 0 0 1 1 0 1 0 1 0 0 0 0 0 0 0 0 1 0 0 0 0 0 0 0 0 1 0 0 0 0 1 0 0 0 0 1 0 0 0 0 0 0 0 0 1 1 0 0 1 0 1 0 0 1 0 0 1 0 0 1 0 0 0 1 0 0 1 1 0 0 0 1 1 1 0 0 0 0 0 0 0 0 0 1 1 0 0 0 1 0 1 0 0 0 0 0\n",
            "Total weight for the best individual: 1077\n",
            "\n",
            "- Generation 11: Max Fitness = 175.0, Avg Fitness = -229.216\n",
            "Best Individual =  0 0 1 0 1 1 1 1 0 0 0 0 1 0 0 0 0 0 0 1 1 0 0 1 1 1 0 0 0 1 1 0 0 0 1 0 0 0 0 0 0 1 0 0 0 0 0 0 0 1 1 0 1 0 1 0 0 0 0 0 1 0 1 1 1 0 0 0 1 0 0 0 0 0 0 0 0 0 0 0 0 0 0 0 1 1 0 0 1 1 1 0 0 0 1 0 0 0 1 0\n",
            "Total weight for the best individual: 975\n",
            "\n",
            "\n",
            "Best Individual Overall =  0 0 1 0 1 1 1 1 0 0 0 0 1 0 0 0 0 0 0 1 1 0 0 1 1 1 0 0 0 1 1 0 0 0 1 0 0 0 0 0 0 1 0 0 0 0 0 0 0 1 1 0 1 0 1 0 0 0 0 0 1 0 1 1 1 0 0 0 1 0 0 0 0 0 0 0 0 0 0 0 0 0 0 0 1 1 0 0 1 1 1 0 0 0 1 0 0 0 1 0\n",
            "Fitness of Best Individual Overall =  175.0\n",
            "Total Weight for the Best Individual Overall:  975\n"
          ]
        },
        {
          "output_type": "display_data",
          "data": {
            "text/plain": [
              "<Figure size 640x480 with 1 Axes>"
            ],
            "image/png": "[encoded data removed]"
          },
          "metadata": {}
        }
      ]
    },
    {
      "cell_type": "code",
      "execution_count": 784,
      "metadata": {
        "id": "vmEEQCxSI9eW"
      },
      "outputs": [],
      "source": [
        "\n"
      ]
    },
    {
      "cell_type": "code",
      "execution_count": 784,
      "metadata": {
        "id": "PykcvOsVI9eX"
      },
      "outputs": [],
      "source": []
    }
  ],
  "metadata": {
    "kernelspec": {
      "display_name": "Python 3",
      "language": "python",
      "name": "python3"
    },
    "language_info": {
      "codemirror_mode": {
        "name": "ipython",
        "version": 3
      },
      "file_extension": ".py",
      "mimetype": "text/x-python",
      "name": "python",
      "nbconvert_exporter": "python",
      "pygments_lexer": "ipython3",
      "version": "3.8.3"
    },
    "colab": {
      "provenance": [],
      "toc_visible": true,
      "include_colab_link": true
    }
  },
  "nbformat": 4,
  "nbformat_minor": 0
}