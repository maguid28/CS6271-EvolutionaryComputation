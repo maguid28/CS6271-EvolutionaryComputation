{
  "cells": [
    {
      "cell_type": "markdown",
      "metadata": {
        "id": "view-in-github",
        "colab_type": "text"
      },
      "source": [
        "<a href=\"https://colab.research.google.com/github/maguid28/CS6271-EvolutionaryComputation/blob/main/GA_applied_to_OneMax_Tournement.ipynb\" target=\"_parent\"><img src=\"https://colab.research.google.com/assets/colab-badge.svg\" alt=\"Open In Colab\"/></a>"
      ]
    },
    {
      "cell_type": "markdown",
      "source": [
        "##Student Number: 23222425\n"
      ],
      "metadata": {
        "id": "lSQSI5vqBagm"
      }
    },
    {
      "cell_type": "markdown",
      "source": [
        "##Comments"
      ],
      "metadata": {
        "id": "kiOrUj9tIHwB"
      }
    },
    {
      "cell_type": "markdown",
      "source": [
        "I started with the following constants:\n",
        "\n",
        "POPULATION_SIZE = 2200\n",
        "\n",
        "P_CROSSOVER = 0.6  \n",
        "\n",
        "P_MUTATION = 0.1\n",
        "\n",
        "MAX_GENERATIONS = 100\n",
        "\n",
        "The best results were for Generation 7: Max Fitness = 77.0, Avg Fitness = 61.17727272727273\n",
        "\n",
        "As the generations increased the fitness score decreased dramatically to Generation 100: Max Fitness = 48.0, Avg Fitness = 48.0\n",
        "\n",
        "Changing mutation and crossover values also resulted in decreased overall fitness.\n",
        "\n",
        "I decreased the population size to see if I could still keep the best fitness of 77 but was unable to achieve a fitness score as good as this.\n",
        "\n",
        "I decided to gradually increase the population size to see if a greater fitness could be achieved. I found that changing the population size to 2300 resulted in an improved fitness score.\n",
        "Generation 8: Max Fitness = 81.0, Avg Fitness = 60.555652173913046\n",
        "\n",
        "The final configurations are as follows:\n",
        "\n",
        "POPULATION_SIZE = 2300\n",
        "\n",
        "P_CROSSOVER = 0.6\n",
        "\n",
        "P_MUTATION = 0.1  \n",
        "\n",
        "MAX_GENERATIONS = 8\n",
        "\n",
        "So, with a population size of 2300 and 8 generations, the number of individuals processed is $2300×8=18400$  individuals processed to achieve a max fitness score of 81."
      ],
      "metadata": {
        "id": "uw8jPDTfBkrd"
      }
    },
    {
      "cell_type": "markdown",
      "metadata": {
        "id": "USjbaWPxAvkR"
      },
      "source": [
        "   # GA applied to OneMax"
      ]
    },
    {
      "cell_type": "markdown",
      "metadata": {
        "id": "7hkLuAjAAvkU"
      },
      "source": [
        "This notebook implements a simple GA in a fairly lowlevel way. In later examples we'll use more highlevel operators, but it is a very valuable exercise to ensure you understand what this code is actually doing. Make sure you understand the processes below before moving to the more high-level toolboxes!"
      ]
    },
    {
      "cell_type": "markdown",
      "metadata": {
        "id": "j-ZS6qzGAvkV"
      },
      "source": [
        "Install DEAP. Note that if you are running this on your own computer you might not need to do this. In fact, it is better practice to install it so that it is always available, but when running on Colab, we do need this."
      ]
    },
    {
      "cell_type": "code",
      "execution_count": 9,
      "metadata": {
        "colab": {
          "base_uri": "https://localhost:8080/"
        },
        "id": "eHWXBot4AvkW",
        "outputId": "69a8acca-959c-4613-8998-11c18f76e460"
      },
      "outputs": [
        {
          "output_type": "stream",
          "name": "stdout",
          "text": [
            "Requirement already satisfied: deap in /usr/local/lib/python3.10/dist-packages (1.4.1)\n",
            "Requirement already satisfied: numpy in /usr/local/lib/python3.10/dist-packages (from deap) (1.23.5)\n"
          ]
        }
      ],
      "source": [
        "!pip install deap"
      ]
    },
    {
      "cell_type": "markdown",
      "metadata": {
        "id": "UStGjsd4AvkY"
      },
      "source": [
        "Import the DEAP tools and useful libraries (random and matplotlib)."
      ]
    },
    {
      "cell_type": "code",
      "execution_count": 10,
      "metadata": {
        "id": "3ibBEB75AvkY"
      },
      "outputs": [],
      "source": [
        "from deap import base\n",
        "from deap import creator\n",
        "from deap import tools\n",
        "from deap import algorithms\n",
        "\n",
        "import random\n",
        "\n",
        "import matplotlib.pyplot as plt"
      ]
    },
    {
      "cell_type": "markdown",
      "metadata": {
        "id": "IbEVHau6Avka"
      },
      "source": [
        "Set our Genetic Algorithm parameters"
      ]
    },
    {
      "cell_type": "code",
      "execution_count": 11,
      "metadata": {
        "id": "3qd7zOs1Avka"
      },
      "outputs": [],
      "source": [
        "# Genetic Algorithm constants:\n",
        "POPULATION_SIZE = 2300\n",
        "P_CROSSOVER = 0.6  # probability for crossover\n",
        "P_MUTATION = 0.1   # probability for mutating an individual\n",
        "MAX_GENERATIONS = 100\n"
      ]
    },
    {
      "cell_type": "markdown",
      "metadata": {
        "id": "3MvN7GfsAvkb"
      },
      "source": [
        "Set any problem-specific constants here. In this case we need to know how long the string is."
      ]
    },
    {
      "cell_type": "code",
      "execution_count": 12,
      "metadata": {
        "id": "1DMqzXYJAvkc"
      },
      "outputs": [],
      "source": [
        "ONE_MAX_LENGTH = 100  # length of bit string to be optimized"
      ]
    },
    {
      "cell_type": "markdown",
      "metadata": {
        "id": "fpIjoSDBAvkd"
      },
      "source": [
        "Set the random seed. This is important so that we can reproduce runs later on."
      ]
    },
    {
      "cell_type": "code",
      "execution_count": 13,
      "metadata": {
        "id": "RzEv4anJAvke"
      },
      "outputs": [],
      "source": [
        "RANDOM_SEED = 42\n",
        "random.seed(RANDOM_SEED)"
      ]
    },
    {
      "cell_type": "markdown",
      "metadata": {
        "id": "sVh1HuYTAvkf"
      },
      "source": [
        "Create our toolbox. Note that we can pull in a bunch of predefined operators to tailor our Evolutionary Algorithm, which, of course, in this case is a GA. Notice that it is possible to create our **own** operators and functions to use, which is what we do with our **oneMaxFitness** function below."
      ]
    },
    {
      "cell_type": "code",
      "execution_count": 14,
      "metadata": {
        "id": "eRDoWB3OAvkg",
        "colab": {
          "base_uri": "https://localhost:8080/"
        },
        "outputId": "d2701de0-30ad-4fe1-91af-8418b5e75627"
      },
      "outputs": [
        {
          "output_type": "stream",
          "name": "stderr",
          "text": [
            "/usr/local/lib/python3.10/dist-packages/deap/creator.py:185: RuntimeWarning: A class named 'FitnessMax' has already been created and it will be overwritten. Consider deleting previous creation of that class or rename it.\n",
            "  warnings.warn(\"A class named '{0}' has already been created and it \"\n",
            "/usr/local/lib/python3.10/dist-packages/deap/creator.py:185: RuntimeWarning: A class named 'Individual' has already been created and it will be overwritten. Consider deleting previous creation of that class or rename it.\n",
            "  warnings.warn(\"A class named '{0}' has already been created and it \"\n"
          ]
        }
      ],
      "source": [
        "toolbox = base.Toolbox()\n",
        "\n",
        "# create an operator that randomly returns 0 or 1:\n",
        "toolbox.register(\"zeroOrOne\", random.randint, 0, 1)\n",
        "\n",
        "# define a single objective, maximizing fitness strategy:\n",
        "creator.create(\"FitnessMax\", base.Fitness, weights=(1.0,))\n",
        "\n",
        "# create the Individual class based on list:\n",
        "creator.create(\"Individual\", list, fitness=creator.FitnessMax)\n",
        "#creator.create(\"Individual\", array.array, typecode='b', fitness=creator.FitnessMax)\n",
        "\n",
        "# create the individual operator to fill up an Individual instance:\n",
        "toolbox.register(\"individualCreator\", tools.initRepeat, creator.Individual, toolbox.zeroOrOne, ONE_MAX_LENGTH)\n",
        "\n",
        "# create the population operator to generate a list of individuals:\n",
        "toolbox.register(\"populationCreator\", tools.initRepeat, list, toolbox.individualCreator)\n",
        "\n",
        "# fitness calculation:\n",
        "# compute the number of '1's in the individual\n",
        "def oneMaxFitness(individual):\n",
        "    return sum(individual),  # return a tuple\n",
        "\n",
        "toolbox.register(\"evaluate\", oneMaxFitness)\n",
        "\n",
        "# genetic operators:\n",
        "\n",
        "toolbox.register(\"select\", tools.selTournament, tournsize=3)\n",
        "\n",
        "\n",
        "# Single-point crossover:\n",
        "toolbox.register(\"mate\", tools.cxOnePoint)\n",
        "\n",
        "# Flip-bit mutation:\n",
        "# indpb: Independent probability for each attribute to be flipped\n",
        "toolbox.register(\"mutate\", tools.mutFlipBit, indpb=1.0/ONE_MAX_LENGTH)\n",
        "\n"
      ]
    },
    {
      "cell_type": "markdown",
      "metadata": {
        "id": "01rJoKAEAvkh"
      },
      "source": [
        "Here is the main GA loop. We will iterate through it up to the MAX_GENERATIONS parameter and then print out our best individual."
      ]
    },
    {
      "cell_type": "code",
      "execution_count": 15,
      "metadata": {
        "colab": {
          "base_uri": "https://localhost:8080/"
        },
        "id": "fqcNXfCKAvkh",
        "outputId": "3334735f-715f-48e1-b806-1f3bdfde2fb5"
      },
      "outputs": [
        {
          "output_type": "stream",
          "name": "stdout",
          "text": [
            "- Generation 1: Max Fitness = 68.0, Avg Fitness = 54.03217391304348\n",
            "Best Individual =  1 1 1 1 1 0 1 1 1 0 1 1 0 0 1 1 1 0 1 1 0 1 1 1 1 0 1 1 1 0 1 1 1 0 1 0 0 1 1 1 1 1 0 0 1 0 0 1 0 1 1 1 1 1 1 1 1 1 1 1 1 1 1 1 0 1 1 0 1 1 1 1 0 0 1 0 1 0 1 1 0 0 1 1 1 0 1 1 0 0 1 1 1 0 1 0 1 0 0 0 \n",
            "\n",
            "- Generation 2: Max Fitness = 69.0, Avg Fitness = 57.43521739130435\n",
            "Best Individual =  1 1 1 0 1 1 1 1 0 1 1 1 1 0 0 1 1 1 1 1 1 1 1 0 1 1 1 0 1 1 1 1 1 1 0 0 0 1 0 0 1 1 1 1 0 1 1 1 1 0 0 1 1 0 1 1 1 0 0 1 1 1 1 0 1 1 1 1 0 1 1 1 0 1 1 1 0 0 1 0 1 0 1 0 1 0 0 1 0 0 0 1 1 1 1 1 1 0 1 1 \n",
            "\n",
            "- Generation 3: Max Fitness = 71.0, Avg Fitness = 60.412608695652175\n",
            "Best Individual =  1 1 1 1 1 0 1 1 1 0 1 1 0 0 1 1 1 0 1 1 0 1 1 1 1 0 1 1 1 0 1 1 1 0 1 0 0 1 1 1 1 1 0 0 1 0 0 1 0 1 1 1 1 1 1 1 1 1 1 1 1 1 1 1 0 1 1 1 1 1 0 1 0 1 1 1 0 1 0 1 0 1 1 0 0 1 1 1 1 1 0 0 1 1 1 1 0 0 0 1 \n",
            "\n",
            "- Generation 4: Max Fitness = 73.0, Avg Fitness = 63.15521739130435\n",
            "Best Individual =  1 1 1 1 1 1 1 0 1 0 1 1 0 1 1 1 0 1 1 1 1 1 1 1 0 1 0 1 0 1 1 1 0 1 1 1 1 1 1 1 0 1 1 0 1 0 1 1 1 0 0 1 1 1 1 1 1 0 1 0 0 1 0 0 0 1 1 1 0 1 0 1 1 1 1 1 1 1 1 0 0 1 0 1 1 1 1 1 1 1 1 1 0 0 0 1 1 1 1 1 \n",
            "\n",
            "- Generation 5: Max Fitness = 74.0, Avg Fitness = 65.72565217391305\n",
            "Best Individual =  0 1 1 1 1 1 0 1 1 0 1 1 1 1 0 1 0 1 1 1 1 1 0 1 1 1 1 1 1 1 1 1 1 1 1 0 1 0 0 1 1 1 1 1 1 0 1 0 1 1 1 0 1 1 1 1 0 1 0 1 1 1 1 1 0 1 1 0 1 1 0 1 1 1 1 0 1 0 0 0 0 0 1 1 1 1 1 1 1 0 1 1 1 1 0 0 1 1 1 1 \n",
            "\n",
            "- Generation 6: Max Fitness = 77.0, Avg Fitness = 68.02434782608695\n",
            "Best Individual =  0 1 1 1 0 1 1 1 0 1 1 1 1 1 1 0 0 0 1 1 1 1 1 1 1 0 1 0 0 1 1 1 1 1 1 1 1 1 1 1 1 0 1 1 0 0 0 1 1 1 1 1 1 1 1 1 1 1 1 1 1 1 1 1 0 1 1 0 1 1 1 1 0 0 1 0 1 0 1 1 0 1 0 1 0 1 1 1 1 1 1 1 1 1 0 1 1 1 1 1 \n",
            "\n",
            "- Generation 7: Max Fitness = 80.0, Avg Fitness = 70.19826086956522\n",
            "Best Individual =  1 1 1 1 0 1 1 1 1 1 1 1 1 1 1 1 1 0 1 1 0 1 1 1 1 0 1 1 1 0 1 1 1 0 1 0 0 1 1 1 1 1 0 0 1 0 0 0 1 1 1 0 1 1 1 1 1 1 1 1 1 1 1 1 1 1 1 1 1 1 0 1 1 0 1 1 1 1 1 1 1 1 1 1 1 1 1 1 1 0 1 0 1 0 0 1 1 1 1 1 \n",
            "\n",
            "- Generation 8: Max Fitness = 83.0, Avg Fitness = 72.15217391304348\n",
            "Best Individual =  1 1 1 1 1 0 1 1 1 0 1 1 1 1 1 1 1 1 1 1 1 1 1 1 1 1 1 1 1 1 1 0 0 1 1 1 1 1 1 0 0 1 1 1 1 0 0 1 0 0 1 1 1 1 1 1 1 1 1 1 1 1 1 1 0 1 1 1 0 1 1 1 0 1 1 0 1 1 1 1 1 1 1 1 1 1 1 1 1 1 1 1 0 0 0 1 1 1 1 1 \n",
            "\n",
            "- Generation 9: Max Fitness = 85.0, Avg Fitness = 74.06478260869565\n",
            "Best Individual =  1 1 1 1 1 0 1 1 1 0 1 1 1 1 1 1 1 1 1 1 1 1 1 1 1 1 1 1 1 1 1 0 0 0 1 1 1 1 1 1 1 1 0 0 1 1 1 1 0 1 1 1 1 1 1 1 1 1 1 1 1 1 1 1 0 1 1 0 1 0 1 1 1 1 1 1 0 1 1 0 1 1 0 1 1 1 1 0 1 1 1 1 1 1 1 1 1 1 1 1 \n",
            "\n",
            "- Generation 10: Max Fitness = 85.0, Avg Fitness = 76.03565217391305\n",
            "Best Individual =  1 1 1 1 1 0 1 1 1 0 1 1 1 1 1 1 1 1 1 1 1 1 1 1 1 1 1 1 1 1 1 0 0 1 1 1 1 1 1 0 0 1 1 1 1 1 0 0 1 1 1 1 1 0 1 1 1 1 0 1 0 1 1 1 1 1 1 1 1 1 0 1 1 0 1 1 1 1 1 1 1 1 1 1 1 1 1 1 1 1 0 1 0 1 1 1 1 1 1 1 \n",
            "\n",
            "- Generation 11: Max Fitness = 88.0, Avg Fitness = 78.05347826086957\n",
            "Best Individual =  1 1 1 1 1 0 1 1 1 0 1 1 1 1 1 1 1 1 1 1 1 1 1 1 1 1 1 1 1 1 1 0 0 1 1 1 1 1 1 0 0 1 1 1 1 1 1 0 1 1 0 1 1 1 1 1 1 1 1 1 1 1 1 1 1 1 1 1 1 1 0 1 1 0 1 1 1 1 1 1 1 1 1 1 1 1 1 1 1 1 1 1 0 1 1 1 1 0 1 1 \n",
            "\n",
            "- Generation 12: Max Fitness = 90.0, Avg Fitness = 80.1304347826087\n",
            "Best Individual =  1 1 1 1 1 0 1 1 1 0 1 1 1 1 1 1 1 1 1 1 1 1 1 1 1 1 1 1 1 1 1 1 1 0 1 1 1 1 1 1 1 1 0 0 1 1 1 1 0 1 1 1 1 1 1 1 1 1 1 1 1 1 1 1 0 1 1 0 1 1 1 1 1 1 1 1 1 1 1 1 1 1 1 1 1 1 0 1 1 0 1 1 1 1 1 1 1 1 1 1 \n",
            "\n",
            "- Generation 13: Max Fitness = 92.0, Avg Fitness = 82.19782608695652\n",
            "Best Individual =  1 1 1 1 1 1 0 1 1 1 1 1 1 1 1 1 1 1 1 1 1 1 1 1 1 1 1 1 1 1 1 0 0 1 1 1 1 1 1 0 0 1 0 1 1 1 1 1 1 1 1 1 1 1 1 1 1 1 1 1 1 1 1 1 1 1 1 1 1 1 0 1 1 0 1 1 1 1 1 1 1 1 1 1 1 1 1 1 1 1 1 1 1 1 1 1 1 1 1 1 \n",
            "\n",
            "- Generation 14: Max Fitness = 92.0, Avg Fitness = 84.13652173913043\n",
            "Best Individual =  1 1 1 1 1 1 0 1 1 1 1 1 1 1 1 1 1 1 1 1 1 1 1 1 1 1 1 1 1 1 1 0 0 1 1 1 1 1 1 0 0 1 0 1 1 1 1 1 1 1 1 1 1 1 1 1 1 1 1 1 1 1 1 1 1 1 1 1 1 1 0 1 1 0 1 1 1 1 1 1 1 1 1 1 1 1 1 1 1 1 1 1 1 1 1 1 1 1 1 1 \n",
            "\n",
            "- Generation 15: Max Fitness = 93.0, Avg Fitness = 85.93826086956521\n",
            "Best Individual =  1 1 1 1 1 0 1 1 1 0 1 1 1 1 1 1 1 1 1 1 1 1 1 1 1 1 1 1 1 1 1 1 1 0 1 1 1 1 1 1 1 1 1 1 0 1 1 1 1 1 1 1 1 1 1 1 1 1 1 1 1 1 1 1 1 1 1 1 1 1 1 1 1 0 1 1 1 1 1 1 1 1 1 1 1 1 1 1 1 1 0 1 0 1 1 1 1 1 1 1 \n",
            "\n",
            "- Generation 16: Max Fitness = 95.0, Avg Fitness = 87.6595652173913\n",
            "Best Individual =  1 1 1 1 1 0 1 1 1 0 1 1 1 1 1 1 1 1 1 1 1 1 1 1 1 1 1 1 1 1 1 1 1 0 1 1 1 1 1 1 1 1 1 1 0 1 1 1 1 1 1 1 1 1 1 1 1 1 1 1 1 1 1 1 1 1 1 1 1 1 1 1 1 0 1 1 1 1 1 1 1 1 1 1 1 1 1 1 1 1 1 1 1 1 1 1 1 1 1 1 \n",
            "\n",
            "- Generation 17: Max Fitness = 95.0, Avg Fitness = 89.1608695652174\n",
            "Best Individual =  1 1 1 1 1 0 1 1 1 0 1 1 1 1 1 1 1 1 1 1 1 1 1 1 1 1 1 1 1 1 1 1 1 0 1 1 1 1 1 1 1 1 1 1 0 1 1 1 1 1 1 1 1 1 1 1 1 1 1 1 1 1 1 1 1 1 1 1 1 1 1 1 1 0 1 1 1 1 1 1 1 1 1 1 1 1 1 1 1 1 1 1 1 1 1 1 1 1 1 1 \n",
            "\n",
            "- Generation 18: Max Fitness = 96.0, Avg Fitness = 90.49217391304347\n",
            "Best Individual =  1 1 1 1 1 1 1 1 1 1 1 0 1 1 1 1 1 1 1 1 1 1 1 1 1 1 1 1 1 1 1 1 0 1 1 1 1 1 1 1 1 1 1 1 1 1 1 1 1 1 1 1 1 1 1 1 1 1 1 1 1 1 1 1 0 1 1 0 1 1 1 1 1 1 1 1 1 1 1 1 1 1 1 1 1 1 1 1 1 1 1 1 1 1 1 1 1 1 1 1 \n",
            "\n",
            "- Generation 19: Max Fitness = 97.0, Avg Fitness = 91.78434782608696\n",
            "Best Individual =  1 1 1 1 1 1 0 1 1 1 1 1 1 1 1 1 1 1 1 1 1 1 1 1 1 1 1 1 1 1 1 1 1 1 1 1 1 1 1 1 1 1 1 1 1 1 1 1 1 1 1 1 1 1 1 1 1 1 1 1 1 1 1 1 1 1 1 1 1 1 0 1 1 0 1 1 1 1 1 1 1 1 1 1 1 1 1 1 1 1 1 1 1 1 1 1 1 1 1 1 \n",
            "\n",
            "- Generation 20: Max Fitness = 97.0, Avg Fitness = 92.9895652173913\n",
            "Best Individual =  1 1 1 1 1 1 0 1 1 1 1 1 1 1 1 1 1 1 1 1 1 1 1 1 1 1 1 1 1 1 1 1 1 0 1 1 1 1 1 1 1 1 1 1 0 1 1 1 1 1 1 1 1 1 1 1 1 1 1 1 1 1 1 1 1 1 1 1 1 1 1 1 1 1 1 1 1 1 1 1 1 1 1 1 1 1 1 1 1 1 1 1 1 1 1 1 1 1 1 1 \n",
            "\n",
            "- Generation 21: Max Fitness = 99.0, Avg Fitness = 94.05521739130435\n",
            "Best Individual =  1 1 1 1 1 1 1 1 1 1 1 1 1 1 1 1 1 1 1 1 1 1 1 1 1 1 1 1 1 1 1 1 1 0 1 1 1 1 1 1 1 1 1 1 1 1 1 1 1 1 1 1 1 1 1 1 1 1 1 1 1 1 1 1 1 1 1 1 1 1 1 1 1 1 1 1 1 1 1 1 1 1 1 1 1 1 1 1 1 1 1 1 1 1 1 1 1 1 1 1 \n",
            "\n",
            "- Generation 22: Max Fitness = 99.0, Avg Fitness = 94.97217391304348\n",
            "Best Individual =  1 1 1 1 1 1 1 1 1 1 1 1 1 1 1 1 1 1 1 1 1 1 1 1 1 1 1 1 1 1 1 1 1 0 1 1 1 1 1 1 1 1 1 1 1 1 1 1 1 1 1 1 1 1 1 1 1 1 1 1 1 1 1 1 1 1 1 1 1 1 1 1 1 1 1 1 1 1 1 1 1 1 1 1 1 1 1 1 1 1 1 1 1 1 1 1 1 1 1 1 \n",
            "\n",
            "- Generation 23: Max Fitness = 99.0, Avg Fitness = 95.8595652173913\n",
            "Best Individual =  1 1 1 1 1 1 1 1 1 1 1 1 1 1 1 1 1 1 1 1 1 1 1 1 1 1 1 1 1 1 1 1 1 1 1 1 1 1 1 1 1 1 1 1 1 1 1 1 1 1 1 1 1 1 1 1 1 1 1 1 1 1 1 1 1 1 1 1 1 1 1 1 1 0 1 1 1 1 1 1 1 1 1 1 1 1 1 1 1 1 1 1 1 1 1 1 1 1 1 1 \n",
            "\n",
            "- Generation 24: Max Fitness = 100.0, Avg Fitness = 96.65391304347825\n",
            "Best Individual =  1 1 1 1 1 1 1 1 1 1 1 1 1 1 1 1 1 1 1 1 1 1 1 1 1 1 1 1 1 1 1 1 1 1 1 1 1 1 1 1 1 1 1 1 1 1 1 1 1 1 1 1 1 1 1 1 1 1 1 1 1 1 1 1 1 1 1 1 1 1 1 1 1 1 1 1 1 1 1 1 1 1 1 1 1 1 1 1 1 1 1 1 1 1 1 1 1 1 1 1 \n",
            "\n"
          ]
        }
      ],
      "source": [
        "# create initial population (generation 0):\n",
        "population = toolbox.populationCreator(n=POPULATION_SIZE)\n",
        "generationCounter = 0\n",
        "\n",
        "# calculate fitness tuple for each individual in the population:\n",
        "fitnessValues = list(map(toolbox.evaluate, population))\n",
        "for individual, fitnessValue in zip(population, fitnessValues):\n",
        "    individual.fitness.values = fitnessValue\n",
        "\n",
        "# extract fitness values from all individuals in population:\n",
        "fitnessValues = [individual.fitness.values[0] for individual in population]\n",
        "\n",
        "# initialize statistics accumulators:\n",
        "maxFitnessValues = []\n",
        "meanFitnessValues = []\n",
        "\n",
        "# main evolutionary loop:\n",
        "# stop if max fitness value reached the known max value\n",
        "# OR if number of generations exceeded the preset value:\n",
        "while max(fitnessValues) < ONE_MAX_LENGTH and generationCounter < MAX_GENERATIONS:\n",
        "    # update counter:\n",
        "    generationCounter = generationCounter + 1\n",
        "\n",
        "    # apply the selection operator, to select the next generation's individuals:\n",
        "    offspring = toolbox.select(population, len(population))\n",
        "    # clone the selected individuals:\n",
        "    offspring = list(map(toolbox.clone, offspring))\n",
        "\n",
        "    # apply the crossover operator to pairs of offspring:\n",
        "    for child1, child2 in zip(offspring[::2], offspring[1::2]):\n",
        "        if random.random() < P_CROSSOVER:\n",
        "            toolbox.mate(child1, child2)\n",
        "            del child1.fitness.values\n",
        "            del child2.fitness.values\n",
        "\n",
        "    for mutant in offspring:\n",
        "        if random.random() < P_MUTATION:\n",
        "            toolbox.mutate(mutant)\n",
        "            del mutant.fitness.values\n",
        "\n",
        "    # calculate fitness for the individuals with no previous calculated fitness value:\n",
        "    freshIndividuals = [ind for ind in offspring if not ind.fitness.valid]\n",
        "    freshFitnessValues = list(map(toolbox.evaluate, freshIndividuals))\n",
        "    for individual, fitnessValue in zip(freshIndividuals, freshFitnessValues):\n",
        "        individual.fitness.values = fitnessValue\n",
        "\n",
        "    # replace the current population with the offspring:\n",
        "    population[:] = offspring\n",
        "\n",
        "    # collect fitnessValues into a list, update statistics and print:\n",
        "    fitnessValues = [ind.fitness.values[0] for ind in population]\n",
        "\n",
        "    maxFitness = max(fitnessValues)\n",
        "    meanFitness = sum(fitnessValues) / len(population)\n",
        "    maxFitnessValues.append(maxFitness)\n",
        "    meanFitnessValues.append(meanFitness)\n",
        "    print(\"- Generation {}: Max Fitness = {}, Avg Fitness = {}\".format(generationCounter, maxFitness, meanFitness))\n",
        "\n",
        "    # find and print best individual:\n",
        "    best_index = fitnessValues.index(max(fitnessValues))\n",
        "    print(\"Best Individual = \", *population[best_index], \"\\n\")"
      ]
    },
    {
      "cell_type": "markdown",
      "metadata": {
        "id": "4Jlk6UrYAvkj"
      },
      "source": [
        "Now that we're done, let's print out some statistics. Generally we record (at least) the max and average over time."
      ]
    },
    {
      "cell_type": "code",
      "execution_count": 16,
      "metadata": {
        "colab": {
          "base_uri": "https://localhost:8080/",
          "height": 472
        },
        "id": "mKW4PU0cAvkk",
        "outputId": "7d78e55c-cb1a-4c0a-ea72-c6ea0c89c8d3"
      },
      "outputs": [
        {
          "output_type": "display_data",
          "data": {
            "text/plain": [
              "<Figure size 640x480 with 1 Axes>"
            ],
            "image/png": "[encoded data removed]"
          },
          "metadata": {}
        }
      ],
      "source": [
        "# Genetic Algorithm is done - plot statistics:\n",
        "#sns.set_style(\"whitegrid\")\n",
        "plt.plot(maxFitnessValues, color='red')\n",
        "plt.plot(meanFitnessValues, color='green')\n",
        "plt.xlabel('Generation')\n",
        "plt.ylabel('Max / Average Fitness')\n",
        "plt.title('Max and Average Fitness over Generations')\n",
        "plt.show()"
      ]
    },
    {
      "cell_type": "code",
      "execution_count": 16,
      "metadata": {
        "id": "h4euq4ElAvkl"
      },
      "outputs": [],
      "source": []
    }
  ],
  "metadata": {
    "kernelspec": {
      "display_name": "Python 3",
      "language": "python",
      "name": "python3"
    },
    "language_info": {
      "codemirror_mode": {
        "name": "ipython",
        "version": 3
      },
      "file_extension": ".py",
      "mimetype": "text/x-python",
      "name": "python",
      "nbconvert_exporter": "python",
      "pygments_lexer": "ipython3",
      "version": "3.8.3"
    },
    "colab": {
      "provenance": [],
      "toc_visible": true,
      "include_colab_link": true
    }
  },
  "nbformat": 4,
  "nbformat_minor": 0
}