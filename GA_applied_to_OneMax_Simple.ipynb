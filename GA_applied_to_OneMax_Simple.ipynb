{
  "cells": [
    {
      "cell_type": "markdown",
      "metadata": {
        "id": "view-in-github",
        "colab_type": "text"
      },
      "source": [
        "<a href=\"https://colab.research.google.com/github/maguid28/CS6271-EvolutionaryComputation/blob/main/GA_applied_to_OneMax_Simple.ipynb\" target=\"_parent\"><img src=\"https://colab.research.google.com/assets/colab-badge.svg\" alt=\"Open In Colab\"/></a>"
      ]
    },
    {
      "cell_type": "markdown",
      "source": [
        "##Comments:\n",
        "\n"
      ],
      "metadata": {
        "id": "frHBEflrQht5"
      }
    },
    {
      "cell_type": "markdown",
      "source": [
        "I started with a POPULATION_SIZE of 2 and worked up from there. At POPULATION_SIZE = 2 the model couldnt seem to get a fitness score of over 45, but that was fairly close, so I incremented POPULATION_SIZE by one until I solved it with a POPULATION_SIZE = 4 in just about 50 generations.\n",
        "\n",
        "So, with a population size of 4 and 50 generations, the number of individuals processed is $4 * 50=200$.\n",
        "\n",
        "This problem is so much easier to solve because we a lowering the perfect fitness threshold considerably by halfing the threshold for perfect fitness."
      ],
      "metadata": {
        "id": "GgBty05mQzTJ"
      }
    },
    {
      "cell_type": "markdown",
      "metadata": {
        "id": "TRtQrkg-I9eP"
      },
      "source": [
        "   # GA applied to OneMax"
      ]
    },
    {
      "cell_type": "markdown",
      "metadata": {
        "id": "WkBHb9GRI9eR"
      },
      "source": [
        "This notebook implements a simple GA in a fairly lowlevel way. In later examples we'll use more highlevel operators, but it is a very valuable exercise to ensure you understand what this code is actually doing. Make sure you understand the processes below before moving to the more high-level toolboxes!"
      ]
    },
    {
      "cell_type": "markdown",
      "metadata": {
        "id": "C9-hUBLDI9eR"
      },
      "source": [
        "Install DEAP. Note that if you are running this on your own computer you might not need to do this. In fact, it is better practice to install it so that it is always available, but when running on Colab, we do need this."
      ]
    },
    {
      "cell_type": "code",
      "execution_count": null,
      "metadata": {
        "colab": {
          "base_uri": "https://localhost:8080/"
        },
        "id": "JeXkWchWI9eS",
        "outputId": "69943054-fc8b-46f4-de5c-606aacb08348"
      },
      "outputs": [
        {
          "output_type": "stream",
          "name": "stdout",
          "text": [
            "Collecting deap\n",
            "  Downloading deap-1.4.1-cp310-cp310-manylinux_2_5_x86_64.manylinux1_x86_64.manylinux_2_17_x86_64.manylinux2014_x86_64.whl (135 kB)\n",
            "\u001b[?25l     \u001b[90m━━━━━━━━━━━━━━━━━━━━━━━━━━━━━━━━━━━━━━━━\u001b[0m \u001b[32m0.0/135.4 kB\u001b[0m \u001b[31m?\u001b[0m eta \u001b[36m-:--:--\u001b[0m\r\u001b[2K     \u001b[91m━━━━━━━━━━━━━━━━━━━━━━━━━━━━━━━━\u001b[0m\u001b[90m╺\u001b[0m\u001b[90m━━━━━━\u001b[0m \u001b[32m112.6/135.4 kB\u001b[0m \u001b[31m3.2 MB/s\u001b[0m eta \u001b[36m0:00:01\u001b[0m\r\u001b[2K     \u001b[90m━━━━━━━━━━━━━━━━━━━━━━━━━━━━━━━━━━━━━━━\u001b[0m \u001b[32m135.4/135.4 kB\u001b[0m \u001b[31m2.8 MB/s\u001b[0m eta \u001b[36m0:00:00\u001b[0m\n",
            "\u001b[?25hRequirement already satisfied: numpy in /usr/local/lib/python3.10/dist-packages (from deap) (1.23.5)\n",
            "Installing collected packages: deap\n",
            "Successfully installed deap-1.4.1\n"
          ]
        }
      ],
      "source": [
        "!pip install deap"
      ]
    },
    {
      "cell_type": "markdown",
      "metadata": {
        "id": "0F65PBphI9eS"
      },
      "source": [
        "Import the DEAP tools and useful libraries (random and matplotlib)."
      ]
    },
    {
      "cell_type": "code",
      "execution_count": null,
      "metadata": {
        "id": "vOXzdESKI9eS"
      },
      "outputs": [],
      "source": [
        "from deap import base\n",
        "from deap import creator\n",
        "from deap import tools\n",
        "\n",
        "import random\n",
        "\n",
        "import matplotlib.pyplot as plt"
      ]
    },
    {
      "cell_type": "markdown",
      "metadata": {
        "id": "KJmGQRWPI9eS"
      },
      "source": [
        "Set our Genetic Algorithm parameters"
      ]
    },
    {
      "cell_type": "code",
      "execution_count": null,
      "metadata": {
        "id": "GJuylV27I9eT"
      },
      "outputs": [],
      "source": [
        "# Genetic Algorithm constants:\n",
        "POPULATION_SIZE = 4\n",
        "P_CROSSOVER = 0.9  # probability for crossover\n",
        "P_MUTATION = 0.1   # probability for mutating an individual\n",
        "MAX_GENERATIONS = 50\n"
      ]
    },
    {
      "cell_type": "markdown",
      "metadata": {
        "id": "SC1aDlUnI9eT"
      },
      "source": [
        "Set any problem-specific constants here. In this case we need to know how long the string is."
      ]
    },
    {
      "cell_type": "code",
      "execution_count": null,
      "metadata": {
        "id": "HXPjNjPOI9eU"
      },
      "outputs": [],
      "source": [
        "ONE_MAX_LENGTH = 100  # length of bit string to be optimized"
      ]
    },
    {
      "cell_type": "markdown",
      "metadata": {
        "id": "f3hefF-JI9eU"
      },
      "source": [
        "Set the random seed. This is important so that we can reproduce runs later on."
      ]
    },
    {
      "cell_type": "code",
      "execution_count": null,
      "metadata": {
        "id": "EqXQGs3WI9eW"
      },
      "outputs": [],
      "source": [
        "RANDOM_SEED = 42\n",
        "random.seed(RANDOM_SEED)"
      ]
    },
    {
      "cell_type": "markdown",
      "metadata": {
        "id": "iRrJBpDAI9eW"
      },
      "source": [
        "Create our toolbox. Note that we can pull in a bunch of predefined operators to tailor our Evolutionary Algorithm, which, of course, in this case is a GA. Notice that it is possible to create our **own** operators and functions to use, which is what we do with our **oneMaxFitness** function below."
      ]
    },
    {
      "cell_type": "code",
      "execution_count": null,
      "metadata": {
        "id": "O0x7XfV2I9eW"
      },
      "outputs": [],
      "source": [
        "toolbox = base.Toolbox()\n",
        "\n",
        "# create an operator that randomly returns 0 or 1:\n",
        "toolbox.register(\"zeroOrOne\", random.randint, 0, 1)\n",
        "\n",
        "# define a single objective, maximizing fitness strategy:\n",
        "creator.create(\"FitnessMax\", base.Fitness, weights=(1.0,))\n",
        "\n",
        "# create the Individual class based on list:\n",
        "creator.create(\"Individual\", list, fitness=creator.FitnessMax)\n",
        "#creator.create(\"Individual\", array.array, typecode='b', fitness=creator.FitnessMax)\n",
        "\n",
        "# create the individual operator to fill up an Individual instance:\n",
        "toolbox.register(\"individualCreator\", tools.initRepeat, creator.Individual, toolbox.zeroOrOne, ONE_MAX_LENGTH)\n",
        "\n",
        "# create the population operator to generate a list of individuals:\n",
        "toolbox.register(\"populationCreator\", tools.initRepeat, list, toolbox.individualCreator)\n",
        "\n",
        "\n",
        "# fitness calculation:\n",
        "# compute the number of '1's in the individual\n",
        "def oneMaxFitness(individual):\n",
        "    return sum(individual),  # return a tuple\n",
        "\n",
        "def newFitness(individual):\n",
        "    i = sum(individual)\n",
        "\n",
        "    if i <= len(individual)/2:\n",
        "        return i,\n",
        "    else:\n",
        "        return len(individual) - i,\n",
        "\n",
        "\n",
        "\n",
        "toolbox.register(\"evaluate\", newFitness)\n",
        "\n",
        "# genetic operators:\n",
        "\n",
        "# Tournament selection with tournament size of 3:\n",
        "toolbox.register(\"select\", tools.selTournament, tournsize=3)\n",
        "\n",
        "# Single-point crossover:\n",
        "toolbox.register(\"mate\", tools.cxOnePoint)\n",
        "\n",
        "# Flip-bit mutation:\n",
        "# indpb: Independent probability for each attribute to be flipped\n",
        "toolbox.register(\"mutate\", tools.mutFlipBit, indpb=1.0/ONE_MAX_LENGTH)\n",
        "\n"
      ]
    },
    {
      "cell_type": "markdown",
      "metadata": {
        "id": "hdLGAbpGI9eW"
      },
      "source": [
        "Here is the main GA loop. We will iterate through it up to the MAX_GENERATIONS parameter and then print out our best individual."
      ]
    },
    {
      "cell_type": "code",
      "execution_count": null,
      "metadata": {
        "colab": {
          "base_uri": "https://localhost:8080/"
        },
        "id": "zTZB26PEI9eW",
        "outputId": "9f71ced0-0ad2-43d6-d132-f4a3f7faef9e"
      },
      "outputs": [
        {
          "output_type": "stream",
          "name": "stdout",
          "text": [
            "- Generation 1: Max Fitness = 45.0, Avg Fitness = 44.25\n",
            "Best Individual =  0 0 0 0 0 1 1 0 0 1 0 0 1 0 1 1 1 1 1 1 0 0 1 0 0 0 1 0 0 1 0 0 0 0 0 0 0 1 0 0 0 0 1 1 1 0 1 0 1 1 0 1 1 1 0 0 1 0 0 0 1 1 1 0 0 1 1 0 1 1 0 1 0 0 1 0 0 0 1 1 0 1 0 1 1 1 0 0 1 1 0 0 1 0 1 0 1 1 0 0 \n",
            "\n",
            "- Generation 2: Max Fitness = 45.0, Avg Fitness = 45.0\n",
            "Best Individual =  0 0 0 0 0 1 1 0 0 1 0 0 1 0 1 1 1 1 1 1 0 0 1 0 0 0 1 0 0 1 0 0 0 0 0 0 0 1 0 0 0 0 1 1 1 0 1 0 1 1 0 1 1 1 0 0 1 0 0 0 1 1 1 0 0 1 1 0 1 1 0 1 0 0 1 0 0 0 1 1 0 1 0 1 1 1 0 0 1 1 0 0 1 0 1 0 1 1 0 0 \n",
            "\n",
            "- Generation 3: Max Fitness = 45.0, Avg Fitness = 45.0\n",
            "Best Individual =  0 0 0 0 0 1 1 0 0 1 0 0 1 0 1 1 1 1 1 1 0 0 1 0 0 0 1 0 0 1 0 0 0 0 0 0 0 1 0 0 0 0 1 1 1 0 1 0 1 1 0 1 1 1 0 0 1 0 0 0 1 1 1 0 0 1 1 0 1 1 0 1 0 0 1 0 0 0 1 1 0 1 0 1 1 1 0 0 1 1 0 0 1 0 1 0 1 1 0 0 \n",
            "\n",
            "- Generation 4: Max Fitness = 45.0, Avg Fitness = 45.0\n",
            "Best Individual =  0 0 0 0 0 1 1 0 0 1 0 0 1 0 1 1 1 1 1 1 0 0 1 0 0 0 1 0 0 1 0 0 0 0 0 0 0 1 0 0 0 0 1 1 1 0 1 0 1 1 0 1 1 1 0 0 1 0 0 0 1 1 1 0 0 1 1 0 1 1 0 1 0 0 1 0 0 0 1 1 0 1 0 1 1 1 0 0 1 1 0 0 1 0 1 0 1 1 0 0 \n",
            "\n",
            "- Generation 5: Max Fitness = 45.0, Avg Fitness = 45.0\n",
            "Best Individual =  0 0 0 0 0 1 1 0 0 1 0 0 1 0 1 1 1 1 1 1 0 0 1 0 0 0 1 0 0 1 0 0 0 0 0 0 0 1 0 0 0 0 1 1 1 0 1 0 1 1 0 1 1 1 0 0 1 0 0 0 1 1 1 0 0 1 1 0 1 1 0 1 0 0 1 0 0 0 1 1 0 1 0 1 1 1 0 0 1 1 0 0 1 0 1 0 1 1 0 0 \n",
            "\n",
            "- Generation 6: Max Fitness = 45.0, Avg Fitness = 45.0\n",
            "Best Individual =  0 0 0 0 0 1 1 0 0 1 0 0 1 0 1 1 1 1 1 1 0 0 1 0 0 0 1 0 0 1 0 0 0 0 0 0 0 1 0 0 0 0 1 1 1 0 1 0 1 1 0 1 1 1 0 0 1 0 0 0 1 1 1 0 0 1 1 0 1 1 0 1 0 0 1 0 0 0 1 1 0 1 0 1 1 1 0 0 1 1 0 0 1 0 1 0 1 1 0 0 \n",
            "\n",
            "- Generation 7: Max Fitness = 44.0, Avg Fitness = 44.0\n",
            "Best Individual =  0 0 0 0 0 1 1 0 0 1 0 0 1 0 1 1 1 1 1 1 0 0 1 0 0 0 1 0 0 1 0 0 0 0 0 0 0 1 0 0 0 0 1 1 1 0 1 0 1 1 0 1 1 1 0 0 1 0 0 0 1 0 1 0 0 1 1 0 1 1 0 1 0 0 1 0 0 0 1 1 0 1 0 1 1 1 0 0 1 1 0 0 1 0 1 0 1 1 0 0 \n",
            "\n",
            "- Generation 8: Max Fitness = 44.0, Avg Fitness = 44.0\n",
            "Best Individual =  0 0 0 0 0 1 1 0 0 1 0 0 1 0 1 1 1 1 1 1 0 0 1 0 0 0 1 0 0 1 0 0 0 0 0 0 0 1 0 0 0 0 1 1 1 0 1 0 1 1 0 1 1 1 0 0 1 0 0 0 1 0 1 0 0 1 1 0 1 1 0 1 0 0 1 0 0 0 1 1 0 1 0 1 1 1 0 0 1 1 0 0 1 0 1 0 1 1 0 0 \n",
            "\n",
            "- Generation 9: Max Fitness = 44.0, Avg Fitness = 44.0\n",
            "Best Individual =  0 0 0 0 0 1 1 0 0 1 0 0 1 0 1 1 1 1 1 1 0 0 1 0 0 0 1 0 0 1 0 0 0 0 0 0 0 1 0 0 0 0 1 1 1 0 1 0 1 1 0 1 1 1 0 0 1 0 0 0 1 0 1 0 0 1 1 0 1 1 0 1 0 0 1 0 0 0 1 1 0 1 0 1 1 1 0 0 1 1 0 0 1 0 1 0 1 1 0 0 \n",
            "\n",
            "- Generation 10: Max Fitness = 44.0, Avg Fitness = 44.0\n",
            "Best Individual =  0 0 0 0 0 1 1 0 0 1 0 0 1 0 1 1 1 1 1 1 0 0 1 0 0 0 1 0 0 1 0 0 0 0 0 0 0 1 0 0 0 0 1 1 1 0 1 0 1 1 0 1 1 1 0 0 1 0 0 0 1 0 1 0 0 1 1 0 1 1 0 1 0 0 1 0 0 0 1 1 0 1 0 1 1 1 0 0 1 1 0 0 1 0 1 0 1 1 0 0 \n",
            "\n",
            "- Generation 11: Max Fitness = 45.0, Avg Fitness = 45.0\n",
            "Best Individual =  0 0 0 0 0 1 1 1 0 1 0 0 1 0 1 1 1 1 1 1 0 0 1 0 0 0 1 0 0 1 0 0 0 0 0 0 0 1 0 0 0 0 1 1 1 0 1 0 1 1 0 1 1 1 0 0 1 0 0 0 1 0 1 0 0 1 1 0 1 1 0 1 0 0 1 0 0 0 1 1 0 1 0 1 1 1 0 0 1 1 0 0 1 0 1 0 1 1 0 0 \n",
            "\n",
            "- Generation 12: Max Fitness = 45.0, Avg Fitness = 45.0\n",
            "Best Individual =  0 0 0 0 0 1 1 1 0 1 0 0 1 0 1 1 1 1 1 1 0 0 1 0 0 0 1 0 0 1 0 0 0 0 0 0 0 1 0 0 0 0 1 1 1 0 1 0 1 1 0 1 1 1 0 0 1 0 0 0 1 0 1 0 0 1 1 0 1 1 0 1 0 0 1 0 0 0 1 1 0 1 0 1 1 1 0 0 1 1 0 0 1 0 1 0 1 1 0 0 \n",
            "\n",
            "- Generation 13: Max Fitness = 44.0, Avg Fitness = 44.0\n",
            "Best Individual =  0 0 0 0 0 1 1 1 0 1 0 0 1 0 1 1 1 1 1 1 0 0 1 0 0 0 1 0 0 1 0 0 0 0 0 0 0 1 0 0 0 0 1 1 1 0 1 0 0 1 0 1 1 1 0 0 1 0 0 0 1 0 1 0 0 1 1 0 1 1 0 1 0 0 1 0 0 0 1 1 0 1 0 1 1 1 0 0 1 1 0 0 1 0 1 0 1 1 0 0 \n",
            "\n",
            "- Generation 14: Max Fitness = 44.0, Avg Fitness = 44.0\n",
            "Best Individual =  0 0 0 0 0 1 1 1 0 1 0 0 1 0 1 1 1 1 1 1 0 0 1 0 0 0 1 0 0 1 0 0 0 0 0 0 0 1 0 0 0 0 1 1 1 0 1 0 0 1 0 1 1 1 0 0 1 0 0 0 1 0 1 0 0 1 1 0 1 1 0 1 0 0 1 0 0 0 1 1 0 1 0 1 1 1 0 0 1 1 0 0 1 0 1 0 1 1 0 0 \n",
            "\n",
            "- Generation 15: Max Fitness = 44.0, Avg Fitness = 44.0\n",
            "Best Individual =  0 0 0 0 0 1 1 1 0 1 0 0 1 0 1 1 1 1 1 1 0 0 1 0 0 0 1 0 0 1 0 0 0 0 0 0 0 1 0 0 0 0 1 1 1 0 1 0 0 1 0 1 1 1 0 0 1 0 0 0 1 0 1 0 0 1 1 0 1 1 0 1 0 0 1 0 0 0 1 1 0 1 0 1 1 1 0 0 1 1 0 0 1 0 1 0 1 1 0 0 \n",
            "\n",
            "- Generation 16: Max Fitness = 44.0, Avg Fitness = 44.0\n",
            "Best Individual =  0 0 0 0 0 1 1 1 0 1 0 0 1 0 1 1 1 1 1 1 0 0 1 0 0 0 1 0 0 1 0 0 0 0 0 0 0 1 0 0 0 0 1 1 1 0 1 0 0 1 0 1 1 1 0 0 1 0 0 0 1 0 1 0 0 1 1 0 1 1 0 1 0 0 1 0 0 0 1 1 0 1 0 1 1 1 0 0 1 1 0 0 1 0 1 0 1 1 0 0 \n",
            "\n",
            "- Generation 17: Max Fitness = 44.0, Avg Fitness = 44.0\n",
            "Best Individual =  0 0 0 0 0 1 1 1 0 1 0 0 1 0 1 1 1 1 1 1 0 0 1 0 0 0 1 0 0 1 0 0 0 0 0 0 0 1 0 0 0 0 1 1 1 0 1 0 0 1 0 1 1 1 0 0 1 0 0 0 1 0 1 0 0 1 1 0 1 1 0 1 0 0 1 0 0 0 1 1 0 1 0 1 1 1 0 0 1 1 0 0 1 0 1 0 1 1 0 0 \n",
            "\n",
            "- Generation 18: Max Fitness = 44.0, Avg Fitness = 44.0\n",
            "Best Individual =  0 0 0 0 0 1 1 1 0 1 0 0 1 0 1 1 1 1 1 1 0 0 1 0 0 0 1 0 0 1 0 0 0 0 0 0 0 1 0 0 0 0 1 1 1 0 1 0 0 1 0 1 1 1 0 0 1 0 0 0 1 0 1 0 0 1 1 0 1 1 0 1 0 0 1 0 0 0 1 1 0 1 0 1 1 1 0 0 1 1 0 0 1 0 1 0 1 1 0 0 \n",
            "\n",
            "- Generation 19: Max Fitness = 45.0, Avg Fitness = 45.0\n",
            "Best Individual =  0 0 0 0 0 1 1 1 0 1 0 0 1 0 1 1 1 1 1 1 0 0 1 0 0 0 1 0 0 1 0 0 0 0 0 0 0 1 0 0 0 0 1 1 1 0 1 0 0 1 0 1 1 1 0 0 1 0 0 0 1 0 1 0 0 1 1 0 1 1 0 1 0 0 1 0 0 0 1 1 0 1 1 1 1 1 0 0 1 1 0 0 1 0 1 0 1 1 0 0 \n",
            "\n",
            "- Generation 20: Max Fitness = 45.0, Avg Fitness = 45.0\n",
            "Best Individual =  0 0 0 0 0 1 1 1 0 1 0 0 1 0 1 1 1 1 1 1 0 0 1 0 0 0 1 0 0 1 0 0 0 0 0 0 0 1 0 0 0 0 1 1 1 0 1 0 0 1 0 1 1 1 0 0 1 0 0 0 1 0 1 0 0 1 1 0 1 1 0 1 0 0 1 0 0 0 1 1 0 1 1 1 1 1 0 0 1 1 0 0 1 0 1 0 1 1 0 0 \n",
            "\n",
            "- Generation 21: Max Fitness = 46.0, Avg Fitness = 46.0\n",
            "Best Individual =  0 1 0 0 0 1 1 1 0 1 0 0 1 0 1 1 1 1 1 1 0 0 1 0 0 0 1 0 0 1 0 0 0 0 0 0 0 1 0 0 0 0 1 1 1 0 1 0 0 1 0 1 1 1 0 0 1 0 0 0 1 0 1 0 0 1 1 0 1 1 0 1 0 0 1 0 0 0 1 1 0 1 1 1 1 1 0 0 1 1 0 0 1 0 1 0 1 1 0 0 \n",
            "\n",
            "- Generation 22: Max Fitness = 46.0, Avg Fitness = 46.0\n",
            "Best Individual =  0 1 0 0 0 1 1 1 0 1 0 0 1 0 1 1 1 1 1 1 0 0 1 0 0 0 1 0 0 1 0 0 0 0 0 0 0 1 0 0 0 0 1 1 1 0 1 0 0 1 0 1 1 1 0 0 1 0 0 0 1 0 1 0 0 1 1 0 1 1 0 1 0 0 1 0 0 0 1 1 0 1 1 1 1 1 0 0 1 1 0 0 1 0 1 0 1 1 0 0 \n",
            "\n",
            "- Generation 23: Max Fitness = 46.0, Avg Fitness = 46.0\n",
            "Best Individual =  0 1 0 0 0 1 1 1 0 1 0 0 1 0 1 1 1 1 1 1 0 0 1 0 0 0 1 0 0 1 0 0 0 0 0 0 0 1 0 0 0 0 1 1 1 0 1 0 0 1 0 1 1 1 0 0 1 0 0 0 1 0 1 0 0 1 1 0 1 1 0 1 0 0 1 0 0 0 1 1 0 1 1 1 1 1 0 0 1 1 0 0 1 0 1 0 1 1 0 0 \n",
            "\n",
            "- Generation 24: Max Fitness = 46.0, Avg Fitness = 46.0\n",
            "Best Individual =  0 1 0 0 0 1 1 1 0 1 0 0 1 0 1 1 1 1 1 1 0 0 1 0 0 0 1 0 0 1 0 0 0 0 0 0 0 1 0 0 0 0 1 1 1 0 1 0 0 1 0 1 1 1 0 0 1 0 0 0 1 0 1 0 0 1 1 0 1 1 0 1 0 0 1 0 0 0 1 1 0 1 1 1 1 1 0 0 1 1 0 0 1 0 1 0 1 1 0 0 \n",
            "\n",
            "- Generation 25: Max Fitness = 46.0, Avg Fitness = 46.0\n",
            "Best Individual =  0 1 0 0 0 1 1 1 0 1 0 0 1 0 1 1 1 1 1 1 0 0 1 0 0 0 1 0 0 1 0 0 0 0 0 0 0 1 0 0 0 0 1 1 1 0 1 0 0 1 0 1 1 1 0 0 1 0 0 0 1 0 1 0 0 1 1 0 1 1 0 1 0 0 1 0 0 0 1 1 0 1 1 1 1 1 0 0 1 1 0 0 1 0 1 0 1 1 0 0 \n",
            "\n",
            "- Generation 26: Max Fitness = 47.0, Avg Fitness = 47.0\n",
            "Best Individual =  0 1 0 0 0 1 1 1 0 1 0 0 1 0 1 1 1 1 1 1 0 0 1 0 0 0 1 0 0 1 0 0 0 0 0 0 0 1 1 0 0 0 1 1 1 0 1 0 0 1 0 1 1 1 0 0 1 0 0 0 1 0 1 0 0 1 1 0 1 1 0 1 0 0 1 0 0 0 1 1 0 1 1 1 1 1 0 0 1 1 0 0 1 0 1 0 1 1 0 0 \n",
            "\n",
            "- Generation 27: Max Fitness = 47.0, Avg Fitness = 47.0\n",
            "Best Individual =  0 1 0 0 0 1 1 1 0 1 0 0 1 0 1 1 1 1 1 1 0 0 1 0 0 0 1 0 0 1 0 0 0 0 0 0 0 1 1 0 0 0 1 1 1 0 1 0 0 1 0 1 1 1 0 0 1 0 0 0 1 0 1 0 0 1 1 0 1 1 0 1 0 0 1 0 0 0 1 1 0 1 1 1 1 1 0 0 1 1 0 0 1 0 1 0 1 1 0 0 \n",
            "\n",
            "- Generation 28: Max Fitness = 47.0, Avg Fitness = 47.0\n",
            "Best Individual =  0 1 0 0 0 1 1 1 0 1 0 0 1 0 1 1 1 1 1 1 0 0 1 0 0 0 1 0 0 1 0 0 0 0 0 0 0 1 1 0 0 0 1 1 1 0 1 0 0 1 0 1 1 1 0 0 1 0 0 0 1 0 1 0 0 1 1 0 1 1 0 1 0 0 1 0 0 0 1 1 0 1 1 1 1 1 0 0 1 1 0 0 1 0 1 0 1 1 0 0 \n",
            "\n",
            "- Generation 29: Max Fitness = 47.0, Avg Fitness = 47.0\n",
            "Best Individual =  0 1 0 0 0 1 1 1 0 1 0 0 1 0 1 1 1 1 1 1 0 0 1 0 0 0 1 0 0 1 0 0 0 0 0 0 0 1 1 0 0 0 1 1 1 0 1 0 0 1 0 1 1 1 0 0 1 0 0 0 1 0 1 0 0 1 1 0 1 1 0 1 0 0 1 0 0 0 1 1 0 1 1 1 1 1 0 0 1 1 0 0 1 0 1 0 1 1 0 0 \n",
            "\n",
            "- Generation 30: Max Fitness = 47.0, Avg Fitness = 47.0\n",
            "Best Individual =  0 1 0 0 0 1 1 1 0 1 0 0 1 0 1 1 1 1 1 1 0 0 1 0 0 0 1 0 0 1 0 0 0 0 0 0 0 1 1 0 0 0 1 1 1 0 1 0 0 1 0 1 1 1 0 0 1 0 0 0 1 0 1 0 0 1 1 0 1 1 0 1 0 0 1 0 0 0 1 1 0 1 1 1 1 1 0 0 1 1 0 0 1 0 1 0 1 1 0 0 \n",
            "\n",
            "- Generation 31: Max Fitness = 47.0, Avg Fitness = 47.0\n",
            "Best Individual =  0 1 0 0 0 1 1 1 0 1 0 0 1 0 1 1 1 1 1 1 0 0 1 0 0 0 1 0 0 1 0 0 0 0 0 0 0 1 1 0 0 0 1 1 1 0 1 0 0 1 0 1 1 1 0 0 1 0 0 0 1 0 1 0 0 1 1 0 1 1 0 1 0 0 1 0 0 0 1 1 0 1 1 1 1 1 0 0 1 1 0 0 1 0 1 0 1 1 0 0 \n",
            "\n",
            "- Generation 32: Max Fitness = 47.0, Avg Fitness = 47.0\n",
            "Best Individual =  0 1 0 0 0 1 1 1 0 1 0 0 1 0 1 1 1 1 1 1 0 0 1 0 0 0 1 0 0 1 0 0 0 0 0 0 0 1 1 0 0 0 1 1 1 0 1 0 0 1 0 1 1 1 0 0 1 0 0 0 1 0 1 0 0 1 1 0 1 1 0 1 0 0 1 0 0 0 1 1 0 1 1 1 1 1 0 0 1 1 0 0 1 0 1 0 1 1 0 0 \n",
            "\n",
            "- Generation 33: Max Fitness = 47.0, Avg Fitness = 47.0\n",
            "Best Individual =  0 1 0 0 0 1 1 1 0 1 0 0 1 0 1 1 1 1 1 1 0 0 1 0 0 0 1 0 0 1 0 0 0 0 0 0 0 1 1 0 0 0 1 1 1 0 1 0 0 1 0 1 1 1 0 0 1 0 0 0 1 0 1 0 0 1 1 0 1 1 0 1 0 0 1 0 0 0 1 1 0 1 1 1 1 1 0 0 1 1 0 0 1 0 1 0 1 1 0 0 \n",
            "\n",
            "- Generation 34: Max Fitness = 47.0, Avg Fitness = 47.0\n",
            "Best Individual =  0 1 0 0 0 1 1 1 0 1 0 0 1 0 1 1 1 1 1 1 0 0 1 0 0 0 1 0 0 1 0 0 0 0 0 0 0 1 1 0 0 0 1 1 1 0 1 0 0 1 0 1 1 1 0 0 1 0 0 0 1 0 1 0 0 1 1 0 1 1 0 1 0 0 1 0 0 0 1 1 0 1 1 1 1 1 0 0 1 1 0 0 1 0 1 0 1 1 0 0 \n",
            "\n",
            "- Generation 35: Max Fitness = 47.0, Avg Fitness = 47.0\n",
            "Best Individual =  0 1 0 0 0 1 1 1 0 1 0 0 1 0 1 1 1 1 1 1 0 0 1 0 0 0 1 0 0 1 0 0 0 0 0 0 0 1 1 0 0 0 1 1 1 0 1 0 0 1 0 1 1 1 0 0 1 0 0 0 1 0 1 0 0 1 1 0 1 1 0 1 0 0 1 0 0 0 1 1 0 1 1 1 1 1 0 0 1 1 0 0 1 0 1 0 1 1 0 0 \n",
            "\n",
            "- Generation 36: Max Fitness = 48.0, Avg Fitness = 48.0\n",
            "Best Individual =  0 1 0 0 0 1 0 1 0 1 0 0 1 0 1 1 1 1 1 1 0 0 1 0 0 0 1 0 0 1 0 0 0 1 0 0 0 1 1 0 0 0 1 1 1 0 1 0 0 1 0 1 1 0 0 0 1 0 1 0 1 0 1 0 0 1 1 0 1 1 0 1 0 0 1 0 0 1 1 1 0 1 1 1 1 1 0 0 1 1 0 0 1 0 1 0 1 1 0 0 \n",
            "\n",
            "- Generation 37: Max Fitness = 48.0, Avg Fitness = 48.0\n",
            "Best Individual =  0 1 0 0 0 1 0 1 0 1 0 0 1 0 1 1 1 1 1 1 0 0 1 0 0 0 1 0 0 1 0 0 0 1 0 0 0 1 1 0 0 0 1 1 1 0 1 0 0 1 0 1 1 0 0 0 1 0 1 0 1 0 1 0 0 1 1 0 1 1 0 1 0 0 1 0 0 1 1 1 0 1 1 1 1 1 0 0 1 1 0 0 1 0 1 0 1 1 0 0 \n",
            "\n",
            "- Generation 38: Max Fitness = 48.0, Avg Fitness = 48.0\n",
            "Best Individual =  0 1 0 0 0 1 0 1 0 1 0 0 1 0 1 1 1 1 1 1 0 0 1 0 0 0 1 0 0 1 0 0 0 1 0 0 0 1 1 0 0 0 1 1 1 0 1 0 0 1 0 1 1 0 0 0 1 0 1 0 1 0 1 0 0 1 1 0 1 1 0 1 0 0 1 0 0 1 1 1 0 1 1 1 1 1 0 0 1 1 0 0 1 0 1 0 1 1 0 0 \n",
            "\n",
            "- Generation 39: Max Fitness = 48.0, Avg Fitness = 48.0\n",
            "Best Individual =  0 1 0 0 0 1 0 1 0 1 0 0 1 0 1 1 1 1 1 1 0 0 1 0 0 0 1 0 0 1 0 0 0 1 0 0 0 1 1 0 0 0 1 1 1 0 1 0 0 1 0 1 1 0 0 0 1 0 1 0 1 0 1 0 0 1 1 0 1 1 0 1 0 0 1 0 0 1 1 1 0 1 1 1 1 1 0 0 1 1 0 0 1 0 1 0 1 1 0 0 \n",
            "\n",
            "- Generation 40: Max Fitness = 48.0, Avg Fitness = 48.0\n",
            "Best Individual =  0 1 0 0 0 1 0 1 0 1 0 0 1 0 1 1 1 1 1 1 0 0 1 0 0 0 1 0 0 1 0 0 0 1 0 0 0 1 1 0 0 0 1 1 1 0 1 0 0 1 0 1 1 0 0 0 1 0 1 0 1 0 1 0 0 1 1 0 1 1 0 1 0 0 1 0 0 1 1 1 0 1 1 1 1 1 0 0 1 1 0 0 1 0 1 0 1 1 0 0 \n",
            "\n",
            "- Generation 41: Max Fitness = 49.0, Avg Fitness = 49.0\n",
            "Best Individual =  0 1 0 0 0 1 0 1 0 1 0 0 1 0 1 1 1 1 1 1 0 0 1 0 0 0 1 0 0 1 0 0 0 1 0 0 0 1 1 0 0 0 1 1 1 0 1 0 1 1 0 1 1 0 0 0 1 0 1 0 1 0 1 0 0 1 1 0 1 1 0 1 0 0 1 0 0 1 1 1 0 1 1 1 1 1 0 0 1 1 0 0 1 0 1 0 1 1 0 0 \n",
            "\n",
            "- Generation 42: Max Fitness = 49.0, Avg Fitness = 49.0\n",
            "Best Individual =  0 1 0 0 0 1 0 1 0 1 0 0 1 0 1 1 1 1 1 1 0 0 1 0 0 0 1 0 0 1 0 0 0 1 0 0 0 1 1 0 0 0 1 1 1 0 1 0 1 1 0 1 1 0 0 0 1 0 1 0 1 0 1 0 0 1 1 0 1 1 0 1 0 0 1 0 0 1 1 1 0 1 1 1 1 1 0 0 1 1 0 0 1 0 1 0 1 1 0 0 \n",
            "\n",
            "- Generation 43: Max Fitness = 49.0, Avg Fitness = 49.0\n",
            "Best Individual =  0 1 0 0 0 1 0 1 0 1 0 0 1 0 1 1 1 1 1 1 0 0 1 0 0 0 1 0 0 1 0 0 0 1 0 0 0 1 1 0 0 0 1 1 1 0 1 0 1 1 0 1 1 0 0 0 1 0 1 0 1 0 1 0 0 1 1 0 1 1 0 1 0 0 1 0 0 1 1 1 0 1 1 1 1 1 0 0 1 1 0 0 1 0 1 0 1 1 0 0 \n",
            "\n",
            "- Generation 44: Max Fitness = 49.0, Avg Fitness = 49.0\n",
            "Best Individual =  0 1 0 0 0 1 0 1 0 1 0 0 1 0 1 1 1 1 1 1 0 0 1 0 0 0 1 0 0 1 0 0 0 1 0 0 0 1 1 0 0 0 1 1 1 0 1 0 1 1 0 1 1 0 0 0 1 0 1 0 1 0 1 0 0 1 1 0 1 1 0 1 0 0 1 0 0 1 1 1 0 1 1 1 1 1 0 0 1 1 0 0 1 0 1 0 1 1 0 0 \n",
            "\n",
            "- Generation 45: Max Fitness = 49.0, Avg Fitness = 49.0\n",
            "Best Individual =  0 1 0 0 0 1 0 1 0 1 0 0 1 0 1 1 1 1 1 1 0 0 1 0 0 0 1 0 0 1 0 0 0 1 0 0 0 1 1 0 0 0 1 1 1 0 1 0 1 1 0 1 1 0 0 0 1 0 1 0 1 0 1 0 0 1 1 0 1 1 0 1 0 0 1 0 0 1 1 1 0 1 1 1 1 1 0 0 1 1 0 0 1 0 1 0 1 1 0 0 \n",
            "\n",
            "- Generation 46: Max Fitness = 49.0, Avg Fitness = 49.0\n",
            "Best Individual =  0 1 0 0 0 1 0 1 0 1 0 0 1 0 1 1 1 1 1 1 0 0 1 0 0 0 1 0 0 1 0 0 0 1 0 0 0 1 1 0 0 0 1 1 1 0 1 0 1 1 0 1 1 0 0 0 1 0 1 0 1 0 1 0 0 1 1 0 1 1 0 1 0 0 1 0 0 1 1 1 0 1 1 1 1 1 0 0 1 1 0 0 1 0 1 0 1 1 0 0 \n",
            "\n",
            "- Generation 47: Max Fitness = 49.0, Avg Fitness = 49.0\n",
            "Best Individual =  0 1 0 0 0 1 0 1 0 1 0 0 1 0 1 1 1 1 1 1 0 0 1 0 0 0 1 0 0 1 0 0 0 1 0 0 0 1 1 0 0 0 1 1 1 0 1 0 1 1 0 1 1 0 0 0 1 0 1 0 1 0 1 0 0 1 1 0 1 1 0 1 0 0 1 0 0 1 1 1 0 1 1 1 1 1 0 0 1 1 0 0 1 0 1 0 1 1 0 0 \n",
            "\n",
            "- Generation 48: Max Fitness = 49.0, Avg Fitness = 49.0\n",
            "Best Individual =  0 1 0 0 0 1 0 1 0 1 0 0 1 0 1 1 1 1 1 1 0 0 1 0 0 0 1 0 0 1 0 0 0 1 0 0 0 1 1 0 0 0 1 1 1 0 1 0 1 1 0 1 1 0 0 0 1 0 1 0 1 0 1 0 0 1 1 0 1 1 0 1 0 0 1 0 0 1 1 1 0 1 1 1 1 1 0 0 1 1 0 0 1 0 1 0 1 1 0 0 \n",
            "\n",
            "- Generation 49: Max Fitness = 49.0, Avg Fitness = 49.0\n",
            "Best Individual =  0 1 0 0 0 1 0 1 0 1 0 0 1 0 1 1 1 1 1 1 0 0 1 0 0 0 1 0 0 1 0 0 0 1 0 0 0 1 1 0 0 0 1 1 1 0 1 0 1 1 0 1 1 0 0 0 1 0 1 0 1 0 1 0 0 1 1 0 1 1 0 1 0 0 1 0 0 1 1 1 0 1 1 1 1 1 0 0 1 1 0 0 1 0 1 0 1 1 0 0 \n",
            "\n",
            "- Generation 50: Max Fitness = 50.0, Avg Fitness = 50.0\n",
            "Best Individual =  0 1 0 0 0 1 0 1 0 1 0 0 1 0 1 1 1 1 1 1 0 0 1 0 0 0 1 0 0 1 0 0 0 1 0 0 0 1 1 0 0 0 1 1 1 0 1 0 1 1 0 1 1 0 0 0 1 0 1 0 1 1 1 0 0 1 1 0 1 1 0 1 0 0 1 0 0 1 1 1 0 1 1 1 1 1 0 0 1 1 0 0 1 0 1 0 1 1 0 0 \n",
            "\n"
          ]
        }
      ],
      "source": [
        "# create initial population (generation 0):\n",
        "population = toolbox.populationCreator(n=POPULATION_SIZE)\n",
        "generationCounter = 0\n",
        "\n",
        "# calculate fitness tuple for each individual in the population:\n",
        "fitnessValues = list(map(toolbox.evaluate, population))\n",
        "for individual, fitnessValue in zip(population, fitnessValues):\n",
        "    individual.fitness.values = fitnessValue\n",
        "\n",
        "# extract fitness values from all individuals in population:\n",
        "fitnessValues = [individual.fitness.values[0] for individual in population]\n",
        "\n",
        "# initialize statistics accumulators:\n",
        "maxFitnessValues = []\n",
        "meanFitnessValues = []\n",
        "\n",
        "# main evolutionary loop:\n",
        "# stop if max fitness value reached the known max value\n",
        "# OR if number of generations exceeded the preset value:\n",
        "while max(fitnessValues) < ONE_MAX_LENGTH and generationCounter < MAX_GENERATIONS:\n",
        "    # update counter:\n",
        "    generationCounter = generationCounter + 1\n",
        "\n",
        "    # apply the selection operator, to select the next generation's individuals:\n",
        "    offspring = toolbox.select(population, len(population))\n",
        "    # clone the selected individuals:\n",
        "    #offspring = list(map(toolbox.clone, offspring))\n",
        "\n",
        "    # apply the crossover operator to pairs of offspring:\n",
        "    for child1, child2 in zip(offspring[::2], offspring[1::2]):\n",
        "        if random.random() < P_CROSSOVER:\n",
        "            toolbox.mate(child1, child2)\n",
        "            del child1.fitness.values\n",
        "            del child2.fitness.values\n",
        "\n",
        "    for mutant in offspring:\n",
        "        if random.random() < P_MUTATION:\n",
        "            toolbox.mutate(mutant)\n",
        "            del mutant.fitness.values\n",
        "\n",
        "    # calculate fitness for the individuals with no previous calculated fitness value:\n",
        "    freshIndividuals = [ind for ind in offspring if not ind.fitness.valid]\n",
        "    freshFitnessValues = list(map(toolbox.evaluate, freshIndividuals))\n",
        "    for individual, fitnessValue in zip(freshIndividuals, freshFitnessValues):\n",
        "        individual.fitness.values = fitnessValue\n",
        "\n",
        "    # replace the current population with the offspring:\n",
        "    population[:] = offspring\n",
        "\n",
        "    # collect fitnessValues into a list, update statistics and print:\n",
        "    fitnessValues = [ind.fitness.values[0] for ind in population]\n",
        "\n",
        "    maxFitness = max(fitnessValues)\n",
        "    meanFitness = sum(fitnessValues) / len(population)\n",
        "    maxFitnessValues.append(maxFitness)\n",
        "    meanFitnessValues.append(meanFitness)\n",
        "    print(\"- Generation {}: Max Fitness = {}, Avg Fitness = {}\".format(generationCounter, maxFitness, meanFitness))\n",
        "\n",
        "    # find and print best individual:\n",
        "    best_index = fitnessValues.index(max(fitnessValues))\n",
        "    print(\"Best Individual = \", *population[best_index], \"\\n\")"
      ]
    },
    {
      "cell_type": "markdown",
      "metadata": {
        "id": "SJ36W4fLI9eW"
      },
      "source": [
        "Now that we're done, let's print out some statistics. Generally we record (at least) the max and average over time."
      ]
    },
    {
      "cell_type": "code",
      "execution_count": null,
      "metadata": {
        "colab": {
          "base_uri": "https://localhost:8080/",
          "height": 472
        },
        "id": "vmEEQCxSI9eW",
        "outputId": "ca50674f-734c-4a54-f419-4d1548f27773"
      },
      "outputs": [
        {
          "output_type": "display_data",
          "data": {
            "text/plain": [
              "<Figure size 640x480 with 1 Axes>"
            ],
            "image/png": "[encoded data removed]"
          },
          "metadata": {}
        }
      ],
      "source": [
        "# Genetic Algorithm is done - plot statistics:\n",
        "#sns.set_style(\"whitegrid\")\n",
        "plt.plot(maxFitnessValues, color='red')\n",
        "plt.plot(meanFitnessValues, color='green')\n",
        "plt.xlabel('Generation')\n",
        "plt.ylabel('Max / Average Fitness')\n",
        "plt.title('Max and Average Fitness over Generations')\n",
        "plt.show()"
      ]
    },
    {
      "cell_type": "code",
      "execution_count": null,
      "metadata": {
        "id": "PykcvOsVI9eX"
      },
      "outputs": [],
      "source": []
    }
  ],
  "metadata": {
    "kernelspec": {
      "display_name": "Python 3",
      "language": "python",
      "name": "python3"
    },
    "language_info": {
      "codemirror_mode": {
        "name": "ipython",
        "version": 3
      },
      "file_extension": ".py",
      "mimetype": "text/x-python",
      "name": "python",
      "nbconvert_exporter": "python",
      "pygments_lexer": "ipython3",
      "version": "3.8.3"
    },
    "colab": {
      "provenance": [],
      "toc_visible": true,
      "include_colab_link": true
    }
  },
  "nbformat": 4,
  "nbformat_minor": 0
}